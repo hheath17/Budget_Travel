{
 "cells": [
  {
   "cell_type": "markdown",
   "id": "a5bac979-d53b-4190-8bb4-54e4054ecbc2",
   "metadata": {},
   "source": [
    "## Flight Fare & Airbnb Recommender System"
   ]
  },
  {
   "cell_type": "markdown",
   "id": "a7cdf5e3-80e0-4083-9745-40dadfda2a1d",
   "metadata": {},
   "source": [
    "Creating recommender systems that can easily be entered into VS code for Streamlit App."
   ]
  },
  {
   "cell_type": "code",
   "execution_count": 4,
   "id": "9071ee24-a575-47d9-91a4-3b83cc975844",
   "metadata": {
    "tags": []
   },
   "outputs": [],
   "source": [
    "import pandas as pd\n",
    "import numpy as np\n",
    "\n",
    "from sklearn.feature_extraction.text import CountVectorizer\n",
    "from sklearn.metrics.pairwise import cosine_similarity"
   ]
  },
  {
   "cell_type": "code",
   "execution_count": 5,
   "id": "80c31cd7-120b-4902-8a57-c7f0dbe2c820",
   "metadata": {
    "tags": []
   },
   "outputs": [],
   "source": [
    "df = pd.read_csv('../data/flight_data_clean.csv')"
   ]
  },
  {
   "cell_type": "code",
   "execution_count": 6,
   "id": "bcc1fc9f-4f41-4f37-98bd-76b587faaea0",
   "metadata": {
    "tags": []
   },
   "outputs": [
    {
     "data": {
      "text/html": [
       "<div>\n",
       "<style scoped>\n",
       "    .dataframe tbody tr th:only-of-type {\n",
       "        vertical-align: middle;\n",
       "    }\n",
       "\n",
       "    .dataframe tbody tr th {\n",
       "        vertical-align: top;\n",
       "    }\n",
       "\n",
       "    .dataframe thead th {\n",
       "        text-align: right;\n",
       "    }\n",
       "</style>\n",
       "<table border=\"1\" class=\"dataframe\">\n",
       "  <thead>\n",
       "    <tr style=\"text-align: right;\">\n",
       "      <th></th>\n",
       "      <th>year</th>\n",
       "      <th>city1</th>\n",
       "      <th>city2</th>\n",
       "      <th>fare</th>\n",
       "      <th>state1</th>\n",
       "      <th>state2</th>\n",
       "    </tr>\n",
       "  </thead>\n",
       "  <tbody>\n",
       "    <tr>\n",
       "      <th>0</th>\n",
       "      <td>2021</td>\n",
       "      <td>Albuquerque</td>\n",
       "      <td>Boston</td>\n",
       "      <td>324.97</td>\n",
       "      <td>NM</td>\n",
       "      <td>MA (Metropolitan Area)</td>\n",
       "    </tr>\n",
       "    <tr>\n",
       "      <th>1</th>\n",
       "      <td>2021</td>\n",
       "      <td>Albuquerque</td>\n",
       "      <td>Boston</td>\n",
       "      <td>315.90</td>\n",
       "      <td>NM</td>\n",
       "      <td>MA (Metropolitan Area)</td>\n",
       "    </tr>\n",
       "    <tr>\n",
       "      <th>2</th>\n",
       "      <td>2021</td>\n",
       "      <td>Albuquerque</td>\n",
       "      <td>Boston</td>\n",
       "      <td>329.22</td>\n",
       "      <td>NM</td>\n",
       "      <td>MA (Metropolitan Area)</td>\n",
       "    </tr>\n",
       "    <tr>\n",
       "      <th>3</th>\n",
       "      <td>2021</td>\n",
       "      <td>Albuquerque</td>\n",
       "      <td>Washington</td>\n",
       "      <td>255.89</td>\n",
       "      <td>NM</td>\n",
       "      <td>DC (Metropolitan Area)</td>\n",
       "    </tr>\n",
       "    <tr>\n",
       "      <th>4</th>\n",
       "      <td>2021</td>\n",
       "      <td>Albuquerque</td>\n",
       "      <td>Washington</td>\n",
       "      <td>291.16</td>\n",
       "      <td>NM</td>\n",
       "      <td>DC (Metropolitan Area)</td>\n",
       "    </tr>\n",
       "  </tbody>\n",
       "</table>\n",
       "</div>"
      ],
      "text/plain": [
       "   year        city1       city2    fare state1                  state2\n",
       "0  2021  Albuquerque      Boston  324.97     NM  MA (Metropolitan Area)\n",
       "1  2021  Albuquerque      Boston  315.90     NM  MA (Metropolitan Area)\n",
       "2  2021  Albuquerque      Boston  329.22     NM  MA (Metropolitan Area)\n",
       "3  2021  Albuquerque  Washington  255.89     NM  DC (Metropolitan Area)\n",
       "4  2021  Albuquerque  Washington  291.16     NM  DC (Metropolitan Area)"
      ]
     },
     "execution_count": 6,
     "metadata": {},
     "output_type": "execute_result"
    }
   ],
   "source": [
    "df.head()"
   ]
  },
  {
   "cell_type": "code",
   "execution_count": 7,
   "id": "abc4b0b9-9083-410d-b3dd-7ca6cc446c4a",
   "metadata": {
    "tags": []
   },
   "outputs": [
    {
     "data": {
      "text/plain": [
       "(16099, 6)"
      ]
     },
     "execution_count": 7,
     "metadata": {},
     "output_type": "execute_result"
    }
   ],
   "source": [
    "df.shape"
   ]
  },
  {
   "cell_type": "code",
   "execution_count": 8,
   "id": "e662a21a-f557-4852-87f3-435a56092f98",
   "metadata": {
    "tags": []
   },
   "outputs": [
    {
     "name": "stdout",
     "output_type": "stream",
     "text": [
      "<class 'pandas.core.frame.DataFrame'>\n",
      "RangeIndex: 16099 entries, 0 to 16098\n",
      "Data columns (total 6 columns):\n",
      " #   Column  Non-Null Count  Dtype  \n",
      "---  ------  --------------  -----  \n",
      " 0   year    16099 non-null  int64  \n",
      " 1   city1   16099 non-null  object \n",
      " 2   city2   16099 non-null  object \n",
      " 3   fare    16099 non-null  float64\n",
      " 4   state1  16099 non-null  object \n",
      " 5   state2  16099 non-null  object \n",
      "dtypes: float64(1), int64(1), object(4)\n",
      "memory usage: 754.8+ KB\n"
     ]
    }
   ],
   "source": [
    "df.info()"
   ]
  },
  {
   "cell_type": "markdown",
   "id": "04cdf73c-cab0-4f71-950b-5ba7d6554f3a",
   "metadata": {},
   "source": [
    "First go at trying to create a recommender system.  This was followed up with a CountVectorizer and Cosine Similarities added. "
   ]
  },
  {
   "cell_type": "code",
   "execution_count": 10,
   "id": "4c4e7fd2-d5e1-4328-a9ec-20ba0163898a",
   "metadata": {
    "tags": []
   },
   "outputs": [],
   "source": [
    "#recommends the top 5 cities with the lowest fares within a given budget range from a specified starting city.\n",
    "def recommend_city(df, starting_city, budget_range):\n",
    "    \n",
    "    min_fare, max_fare = budget_range\n",
    "    \n",
    "#filter fare to be within budget range\n",
    "    fare_filter = (df['fare'] >= min_fare) & (df['fare'] <= max_fare)\n",
    "    filtered_df = df[fare_filter]\n",
    "    \n",
    "#filter so starting_city is city1\n",
    "    city_filter = (filtered_df['city1'] == starting_city)\n",
    "    filtered_df = filtered_df[city_filter]\n",
    "    \n",
    "#sort by fare\n",
    "    sorted_df = filtered_df.sort_values(by='fare')\n",
    "    \n",
    "#select the top 5 city2(destination recommendations) with lowest fares, and no repeated recommended cities\n",
    "    recs = sorted_df.drop_duplicates(subset=['city2']).head(5)\n",
    "    \n",
    "#creates new column for recommended city\n",
    "    recs['recommended_city'] = recs['city2']\n",
    "    \n",
    "#selects and reorders columns to provide the recommended city and fare\n",
    "    recs = recs[['city1', 'recommended_city', 'fare']]\n",
    "    \n",
    "    return recs"
   ]
  },
  {
   "cell_type": "code",
   "execution_count": 11,
   "id": "5deae253-a408-459a-a0bb-e5970d75d66e",
   "metadata": {
    "tags": []
   },
   "outputs": [],
   "source": [
    "#preprocessing the data\n",
    "df_re = df[['city1', 'city2', 'fare']].dropna(subset=['fare'])\n",
    "\n",
    "df_re['fare'] = pd.to_numeric(df_re['fare'], errors='coerce')\n",
    "\n",
    "df_re.dropna(inplace=True)"
   ]
  },
  {
   "cell_type": "code",
   "execution_count": 12,
   "id": "c4d5d89e-9f7a-486b-b5a5-d84d948785d2",
   "metadata": {
    "tags": []
   },
   "outputs": [
    {
     "name": "stdout",
     "output_type": "stream",
     "text": [
      "            city1 recommended_city    fare\n",
      "5094  Albuquerque      Los Angeles  130.34\n",
      "4209  Albuquerque    San Francisco  144.28\n",
      "4021  Albuquerque          Chicago  146.63\n",
      "5029  Albuquerque    New York City  154.33\n",
      "4199  Albuquerque       Washington  171.82\n"
     ]
    }
   ],
   "source": [
    "# testing with Albuquerque and budget range of 100-200\n",
    "starting_city = \"Albuquerque\"\n",
    "budget_range = (100, 200)\n",
    "recs = recommend_city(df_re, starting_city, budget_range)\n",
    "print(recs)"
   ]
  },
  {
   "cell_type": "code",
   "execution_count": 13,
   "id": "3b7a4781-464e-4999-a38b-c92d536714f5",
   "metadata": {
    "tags": []
   },
   "outputs": [
    {
     "name": "stdout",
     "output_type": "stream",
     "text": [
      "         city1 recommended_city    fare\n",
      "14409  Chicago          Seattle  250.07\n",
      "12375  Chicago      Los Angeles  250.42\n",
      "11354  Chicago    New York City  250.72\n",
      "10328  Chicago    San Francisco  250.78\n",
      "15470  Chicago        Las Vegas  251.81\n"
     ]
    }
   ],
   "source": [
    "#second city testing\n",
    "starting_city = \"Chicago\"\n",
    "budget_range = (250, 300)\n",
    "recs = recommend_city(df_re, starting_city, budget_range)\n",
    "print(recs)"
   ]
  },
  {
   "cell_type": "code",
   "execution_count": 14,
   "id": "38b3cab1-d41f-4206-9536-be91f600a247",
   "metadata": {
    "tags": []
   },
   "outputs": [
    {
     "data": {
      "text/plain": [
       "city1\n",
       "Los Angeles          1172\n",
       "Boston               1115\n",
       "Chicago               786\n",
       "Dallas/Fort Worth     741\n",
       "Houston               711\n",
       "                     ... \n",
       "Bangor                  8\n",
       "Hilton Head             5\n",
       "Eureka/Arcata           4\n",
       "Tulsa                   3\n",
       "Spokane                 3\n",
       "Name: count, Length: 96, dtype: int64"
      ]
     },
     "execution_count": 14,
     "metadata": {},
     "output_type": "execute_result"
    }
   ],
   "source": [
    "df['city1'].value_counts()"
   ]
  },
  {
   "cell_type": "markdown",
   "id": "b9ffbe88-eb2d-4449-8b7b-d38170e4f9fe",
   "metadata": {},
   "source": [
    "# Recommender System with CountVectorizer Added & Cosine Similarities on Flight Fare Dataset\n",
    "#### Cell utilized to combine and copy and past into VS code for Streamlit"
   ]
  },
  {
   "cell_type": "code",
   "execution_count": 16,
   "id": "ea1fc8fa-53e7-4bc2-8bbf-d9a4228e5cc3",
   "metadata": {
    "tags": []
   },
   "outputs": [],
   "source": [
    "#list of cities to keep that line up with Airbnb dataset\n",
    "cities_to_keep = [\n",
    "    'Austin', 'Boston', 'Chicago', 'Columbus', 'Denver', 'Ft Lauderdale', \n",
    "    'honolulu', 'Jersey City', 'Las Vegas', 'Los Angeles', 'Nashville', \n",
    "    'New Orleans', 'New York City', 'Portland', 'Rhode Island', \n",
    "    'San Diego', 'San Francisco', 'Seattle', 'Minneapolis', 'Washington']\n",
    "\n",
    "#filter the DataFrame to keep only the specified cities in the 'city2' column\n",
    "df = df[df['city2'].isin(cities_to_keep)]\n",
    "\n",
    "#define the recommendation function\n",
    "def recommend_destinations(starting_city, min_budget, max_budget, num_recommendations=5):\n",
    "#filter the DataFrame based on the budget range\n",
    "    filtered_df = df[(df['fare'] >= min_budget) & (df['fare'] <= max_budget)]\n",
    "    \n",
    "#create a list of all unique destination city\n",
    "    destination_city = list(filtered_df['city2'].unique())\n",
    "    \n",
    "#vcectorize city2 names with CountVectorizer\n",
    "    cv = CountVectorizer().fit_transform(destination_city)\n",
    "    vectors = cv.toarray()\n",
    "    \n",
    "#calculate cosine similarity between the starting city and all other cities\n",
    "    city_index = destination_city.index(starting_city)\n",
    "    cosine_similarities = cosine_similarity([vectors[city_index]], vectors).flatten()\n",
    "#create a DataFrame with cities and their similarity scores\n",
    "    similarity_df = pd.DataFrame({\n",
    "        'city': destination_city,\n",
    "        'similarity': cosine_similarities})\n",
    "    \n",
    "#merge with the filtered DataFrame to keep only relevant destinations\n",
    "    result_df = pd.merge(filtered_df, similarity_df, left_on='city2', right_on='city')\n",
    "    \n",
    "    result_df.to_csv('../data/fare_result_df.csv', index=False)\n",
    "\n",
    "#sort by similarity score and remove duplicates\n",
    "    result_df = result_df.sort_values(by='similarity', ascending=False).drop_duplicates(subset='city2')\n",
    "#get the recommended cities and their fares\n",
    "    recommended_cities = result_df[['city2', 'fare']].values\n",
    "    \n",
    "#randomly selects 5 cities from the recommended cities\n",
    "    if len(recommended_cities) > num_recommendations:\n",
    "        recommended_cities = recommended_cities[np.random.choice(len(recommended_cities), num_recommendations, replace=False)]\n",
    "    \n",
    "    return recommended_cities"
   ]
  },
  {
   "cell_type": "markdown",
   "id": "84da8a1f-43d0-42b3-98d7-32c27fd7e26e",
   "metadata": {
    "tags": []
   },
   "source": [
    "Two tests completed below to confirm code above is working, later to be copied and pasted into streamlit. "
   ]
  },
  {
   "cell_type": "code",
   "execution_count": 18,
   "id": "63ab0706-7add-4fa6-9164-459eed555acb",
   "metadata": {
    "tags": []
   },
   "outputs": [],
   "source": [
    "#input variables\n",
    "starting_city = 'Chicago'\n",
    "min_budget = 200\n",
    "max_budget = 350\n",
    "\n",
    "recommended_cities = recommend_destinations(starting_city, min_budget, max_budget)"
   ]
  },
  {
   "cell_type": "code",
   "execution_count": 19,
   "id": "161455b2-e96a-4097-b6ef-ec76375acc95",
   "metadata": {
    "tags": []
   },
   "outputs": [
    {
     "name": "stdout",
     "output_type": "stream",
     "text": [
      "Recommended cities and their fares from Chicago:\n",
      "Los Angeles: $205.45\n",
      "New Orleans: $335.52\n",
      "San Diego: $218.41\n",
      "Nashville: $212.87\n",
      "Las Vegas: $307.14\n"
     ]
    }
   ],
   "source": [
    "print(f'Recommended cities and their fares from {starting_city}:')\n",
    "for city, fare in recommended_cities:\n",
    "    print(f\"{city}: ${fare}\")"
   ]
  },
  {
   "cell_type": "code",
   "execution_count": 20,
   "id": "91ebea24-8a7c-4d84-b880-b50424791c4f",
   "metadata": {
    "tags": []
   },
   "outputs": [],
   "source": [
    "#input variables, checking another city. \n",
    "starting_city = 'Boston'\n",
    "min_budget = 100\n",
    "max_budget = 350\n",
    "\n",
    "recommended_cities = recommend_destinations(starting_city, min_budget, max_budget)"
   ]
  },
  {
   "cell_type": "code",
   "execution_count": 21,
   "id": "b9d3dbae-3cd6-43ac-8c4f-33a4367b2423",
   "metadata": {
    "tags": []
   },
   "outputs": [
    {
     "name": "stdout",
     "output_type": "stream",
     "text": [
      "Recommended cities and their fares from Boston:\n",
      "Boston: $211.35\n",
      "New Orleans: $124.38\n",
      "Denver: $134.1\n",
      "Los Angeles: $205.45\n",
      "San Francisco: $194.36\n"
     ]
    }
   ],
   "source": [
    "print(f'Recommended cities and their fares from {starting_city}:')\n",
    "for city, fare in recommended_cities:\n",
    "    print(f\"{city}: ${fare}\")"
   ]
  },
  {
   "cell_type": "markdown",
   "id": "66b7b110-a367-4c76-98af-6e491b1d0e11",
   "metadata": {},
   "source": [
    "### Recommender System on Airbnb Dataset based on Input City and Min/Max Budget. \n",
    "#### This to work with the recommender system on flight fare."
   ]
  },
  {
   "cell_type": "code",
   "execution_count": 23,
   "id": "61b2f952-510d-4398-a12d-cd223e771dfa",
   "metadata": {
    "tags": []
   },
   "outputs": [],
   "source": [
    "bnb = pd.read_csv('../data/air_bnb_data_clean.csv')"
   ]
  },
  {
   "cell_type": "code",
   "execution_count": 24,
   "id": "ae8bb6a8-f0d1-48a0-9dc2-56b11a11d3a4",
   "metadata": {
    "tags": []
   },
   "outputs": [
    {
     "data": {
      "text/html": [
       "<div>\n",
       "<style scoped>\n",
       "    .dataframe tbody tr th:only-of-type {\n",
       "        vertical-align: middle;\n",
       "    }\n",
       "\n",
       "    .dataframe tbody tr th {\n",
       "        vertical-align: top;\n",
       "    }\n",
       "\n",
       "    .dataframe thead th {\n",
       "        text-align: right;\n",
       "    }\n",
       "</style>\n",
       "<table border=\"1\" class=\"dataframe\">\n",
       "  <thead>\n",
       "    <tr style=\"text-align: right;\">\n",
       "      <th></th>\n",
       "      <th>room_id</th>\n",
       "      <th>neighbourhood</th>\n",
       "      <th>room_type</th>\n",
       "      <th>room_price</th>\n",
       "      <th>minimum_nights</th>\n",
       "      <th>updated_date</th>\n",
       "      <th>city</th>\n",
       "      <th>state</th>\n",
       "    </tr>\n",
       "  </thead>\n",
       "  <tbody>\n",
       "    <tr>\n",
       "      <th>0</th>\n",
       "      <td>575758</td>\n",
       "      <td>Five Points</td>\n",
       "      <td>Entire home/apt</td>\n",
       "      <td>200</td>\n",
       "      <td>180</td>\n",
       "      <td>2020-06-28</td>\n",
       "      <td>Denver</td>\n",
       "      <td>CO</td>\n",
       "    </tr>\n",
       "    <tr>\n",
       "      <th>1</th>\n",
       "      <td>1041934</td>\n",
       "      <td>Berkeley</td>\n",
       "      <td>Entire home/apt</td>\n",
       "      <td>215</td>\n",
       "      <td>30</td>\n",
       "      <td>2020-06-28</td>\n",
       "      <td>Denver</td>\n",
       "      <td>CO</td>\n",
       "    </tr>\n",
       "    <tr>\n",
       "      <th>2</th>\n",
       "      <td>1311993</td>\n",
       "      <td>CBD</td>\n",
       "      <td>Entire home/apt</td>\n",
       "      <td>90</td>\n",
       "      <td>30</td>\n",
       "      <td>2020-06-28</td>\n",
       "      <td>Denver</td>\n",
       "      <td>CO</td>\n",
       "    </tr>\n",
       "    <tr>\n",
       "      <th>3</th>\n",
       "      <td>1557739</td>\n",
       "      <td>Cole</td>\n",
       "      <td>Private room</td>\n",
       "      <td>60</td>\n",
       "      <td>30</td>\n",
       "      <td>2020-06-28</td>\n",
       "      <td>Denver</td>\n",
       "      <td>CO</td>\n",
       "    </tr>\n",
       "    <tr>\n",
       "      <th>4</th>\n",
       "      <td>3338717</td>\n",
       "      <td>Rosedale</td>\n",
       "      <td>Entire home/apt</td>\n",
       "      <td>90</td>\n",
       "      <td>2</td>\n",
       "      <td>2020-06-28</td>\n",
       "      <td>Denver</td>\n",
       "      <td>CO</td>\n",
       "    </tr>\n",
       "  </tbody>\n",
       "</table>\n",
       "</div>"
      ],
      "text/plain": [
       "   room_id neighbourhood        room_type  room_price  minimum_nights  \\\n",
       "0   575758   Five Points  Entire home/apt         200             180   \n",
       "1  1041934      Berkeley  Entire home/apt         215              30   \n",
       "2  1311993           CBD  Entire home/apt          90              30   \n",
       "3  1557739          Cole     Private room          60              30   \n",
       "4  3338717      Rosedale  Entire home/apt          90               2   \n",
       "\n",
       "  updated_date    city state  \n",
       "0   2020-06-28  Denver    CO  \n",
       "1   2020-06-28  Denver    CO  \n",
       "2   2020-06-28  Denver    CO  \n",
       "3   2020-06-28  Denver    CO  \n",
       "4   2020-06-28  Denver    CO  "
      ]
     },
     "execution_count": 24,
     "metadata": {},
     "output_type": "execute_result"
    }
   ],
   "source": [
    "bnb.head()"
   ]
  },
  {
   "cell_type": "code",
   "execution_count": 25,
   "id": "5224d768-9497-4ce0-b74b-24c1efa1d8f1",
   "metadata": {
    "tags": []
   },
   "outputs": [
    {
     "data": {
      "text/plain": [
       "(193740, 8)"
      ]
     },
     "execution_count": 25,
     "metadata": {},
     "output_type": "execute_result"
    }
   ],
   "source": [
    "bnb.shape"
   ]
  },
  {
   "cell_type": "code",
   "execution_count": 26,
   "id": "48965747-d24c-43b4-b0b5-e0fed7f8989f",
   "metadata": {},
   "outputs": [],
   "source": [
    "def simple_recommend_rooms(city, min_budget, max_budget, bnb):\n",
    "#filter the dataset based on the user input\n",
    "    filtered_bnb = bnb[(bnb['city'].str.lower() == city.lower()) &\n",
    "                         (bnb['room_price'] >= min_budget) &\n",
    "                         (bnb['room_price'] <= max_budget)].reset_index(drop=True)\n",
    "    \n",
    "#sort by room price to get the most relevant results within the budget\n",
    "    filtered_bnb = filtered_bnb.sort_values(by='room_price')\n",
    "    \n",
    "#get top 5 rooms\n",
    "    top_5_rooms = filtered_bnb.head(5)\n",
    "    \n",
    "#select the relevant columns to display\n",
    "    result_bnb = top_5_rooms[['room_id', 'neighbourhood', 'room_price', 'city']]\n",
    "    \n",
    "    return result_bnb"
   ]
  },
  {
   "cell_type": "code",
   "execution_count": 27,
   "id": "41e36b8d-5746-4823-9a79-1d3e60354296",
   "metadata": {
    "tags": []
   },
   "outputs": [],
   "source": [
    "#testing\n",
    "city_input = \"Denver\"\n",
    "min_budget_input = 50\n",
    "max_budget_input = 100"
   ]
  },
  {
   "cell_type": "code",
   "execution_count": 28,
   "id": "e36a1f02-594e-456d-b862-e196a5ad3aeb",
   "metadata": {
    "tags": []
   },
   "outputs": [
    {
     "data": {
      "text/html": [
       "<div>\n",
       "<style scoped>\n",
       "    .dataframe tbody tr th:only-of-type {\n",
       "        vertical-align: middle;\n",
       "    }\n",
       "\n",
       "    .dataframe tbody tr th {\n",
       "        vertical-align: top;\n",
       "    }\n",
       "\n",
       "    .dataframe thead th {\n",
       "        text-align: right;\n",
       "    }\n",
       "</style>\n",
       "<table border=\"1\" class=\"dataframe\">\n",
       "  <thead>\n",
       "    <tr style=\"text-align: right;\">\n",
       "      <th></th>\n",
       "      <th>room_id</th>\n",
       "      <th>neighbourhood</th>\n",
       "      <th>room_price</th>\n",
       "      <th>city</th>\n",
       "    </tr>\n",
       "  </thead>\n",
       "  <tbody>\n",
       "    <tr>\n",
       "      <th>778</th>\n",
       "      <td>39181811</td>\n",
       "      <td>Virginia Village</td>\n",
       "      <td>50</td>\n",
       "      <td>Denver</td>\n",
       "    </tr>\n",
       "    <tr>\n",
       "      <th>1532</th>\n",
       "      <td>32354216</td>\n",
       "      <td>Five Points</td>\n",
       "      <td>50</td>\n",
       "      <td>Denver</td>\n",
       "    </tr>\n",
       "    <tr>\n",
       "      <th>1536</th>\n",
       "      <td>33704620</td>\n",
       "      <td>Gateway - Green Valley Ranch</td>\n",
       "      <td>50</td>\n",
       "      <td>Denver</td>\n",
       "    </tr>\n",
       "    <tr>\n",
       "      <th>1541</th>\n",
       "      <td>37360309</td>\n",
       "      <td>Skyland</td>\n",
       "      <td>50</td>\n",
       "      <td>Denver</td>\n",
       "    </tr>\n",
       "    <tr>\n",
       "      <th>793</th>\n",
       "      <td>5379218</td>\n",
       "      <td>Hampden South</td>\n",
       "      <td>50</td>\n",
       "      <td>Denver</td>\n",
       "    </tr>\n",
       "  </tbody>\n",
       "</table>\n",
       "</div>"
      ],
      "text/plain": [
       "       room_id                 neighbourhood  room_price    city\n",
       "778   39181811              Virginia Village          50  Denver\n",
       "1532  32354216                   Five Points          50  Denver\n",
       "1536  33704620  Gateway - Green Valley Ranch          50  Denver\n",
       "1541  37360309                       Skyland          50  Denver\n",
       "793    5379218                 Hampden South          50  Denver"
      ]
     },
     "execution_count": 28,
     "metadata": {},
     "output_type": "execute_result"
    }
   ],
   "source": [
    "recommended_bnb = simple_recommend_rooms(city_input, min_budget_input, max_budget_input, bnb)\n",
    "\n",
    "recommended_bnb"
   ]
  }
 ],
 "metadata": {
  "kernelspec": {
   "display_name": "Python 3 (ipykernel)",
   "language": "python",
   "name": "python3"
  },
  "language_info": {
   "codemirror_mode": {
    "name": "ipython",
    "version": 3
   },
   "file_extension": ".py",
   "mimetype": "text/x-python",
   "name": "python",
   "nbconvert_exporter": "python",
   "pygments_lexer": "ipython3",
   "version": "3.11.7"
  }
 },
 "nbformat": 4,
 "nbformat_minor": 5
}
