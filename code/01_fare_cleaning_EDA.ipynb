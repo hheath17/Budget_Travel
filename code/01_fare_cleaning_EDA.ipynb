{
 "cells": [
  {
   "cell_type": "markdown",
   "id": "cdee3ba8-ec83-4557-aa15-398373fc6123",
   "metadata": {},
   "source": [
    "## Knowledge-based Recommender System"
   ]
  },
  {
   "cell_type": "code",
   "execution_count": 4,
   "id": "cc34c760-e48f-4b5b-b126-3d3ab299caef",
   "metadata": {
    "tags": []
   },
   "outputs": [],
   "source": [
    "import pandas as pd\n",
    "import numpy as np\n",
    "from scipy import sparse\n",
    "from sklearn.metrics.pairwise import pairwise_distances\n",
    "\n",
    "import matplotlib as plt\n",
    "\n",
    "import re"
   ]
  },
  {
   "cell_type": "code",
   "execution_count": 5,
   "id": "327197a7-1096-424e-8fc1-21e81d43dbd2",
   "metadata": {
    "tags": []
   },
   "outputs": [
    {
     "name": "stderr",
     "output_type": "stream",
     "text": [
      "/var/folders/7q/jsl03b552s5fnhvvhgv3sz100000gn/T/ipykernel_28938/3634177382.py:1: DtypeWarning: Columns (20,21) have mixed types. Specify dtype option on import or set low_memory=False.\n",
      "  fl = pd.read_csv('../data/consumer_airfare_report_US.csv')\n"
     ]
    }
   ],
   "source": [
    "fl = pd.read_csv('../data/consumer_airfare_report_US.csv')"
   ]
  },
  {
   "cell_type": "code",
   "execution_count": 6,
   "id": "5659554f-3593-43b5-b0cf-163984ab53c3",
   "metadata": {
    "tags": []
   },
   "outputs": [
    {
     "data": {
      "text/html": [
       "<div>\n",
       "<style scoped>\n",
       "    .dataframe tbody tr th:only-of-type {\n",
       "        vertical-align: middle;\n",
       "    }\n",
       "\n",
       "    .dataframe tbody tr th {\n",
       "        vertical-align: top;\n",
       "    }\n",
       "\n",
       "    .dataframe thead th {\n",
       "        text-align: right;\n",
       "    }\n",
       "</style>\n",
       "<table border=\"1\" class=\"dataframe\">\n",
       "  <thead>\n",
       "    <tr style=\"text-align: right;\">\n",
       "      <th></th>\n",
       "      <th>tbl</th>\n",
       "      <th>Year</th>\n",
       "      <th>quarter</th>\n",
       "      <th>citymarketid_1</th>\n",
       "      <th>citymarketid_2</th>\n",
       "      <th>city1</th>\n",
       "      <th>city2</th>\n",
       "      <th>airportid_1</th>\n",
       "      <th>airportid_2</th>\n",
       "      <th>airport_1</th>\n",
       "      <th>...</th>\n",
       "      <th>fare</th>\n",
       "      <th>carrier_lg</th>\n",
       "      <th>large_ms</th>\n",
       "      <th>fare_lg</th>\n",
       "      <th>carrier_low</th>\n",
       "      <th>lf_ms</th>\n",
       "      <th>fare_low</th>\n",
       "      <th>Geocoded_City1</th>\n",
       "      <th>Geocoded_City2</th>\n",
       "      <th>tbl1apk</th>\n",
       "    </tr>\n",
       "  </thead>\n",
       "  <tbody>\n",
       "    <tr>\n",
       "      <th>0</th>\n",
       "      <td>Table1a</td>\n",
       "      <td>2021</td>\n",
       "      <td>3</td>\n",
       "      <td>30135</td>\n",
       "      <td>33195</td>\n",
       "      <td>Allentown/Bethlehem/Easton, PA</td>\n",
       "      <td>Tampa, FL (Metropolitan Area)</td>\n",
       "      <td>10135</td>\n",
       "      <td>14112</td>\n",
       "      <td>ABE</td>\n",
       "      <td>...</td>\n",
       "      <td>81.43</td>\n",
       "      <td>G4</td>\n",
       "      <td>1.0000</td>\n",
       "      <td>81.43</td>\n",
       "      <td>G4</td>\n",
       "      <td>1.0000</td>\n",
       "      <td>81.43</td>\n",
       "      <td>NaN</td>\n",
       "      <td>NaN</td>\n",
       "      <td>202131013514112ABEPIE</td>\n",
       "    </tr>\n",
       "    <tr>\n",
       "      <th>1</th>\n",
       "      <td>Table1a</td>\n",
       "      <td>2021</td>\n",
       "      <td>3</td>\n",
       "      <td>30135</td>\n",
       "      <td>33195</td>\n",
       "      <td>Allentown/Bethlehem/Easton, PA</td>\n",
       "      <td>Tampa, FL (Metropolitan Area)</td>\n",
       "      <td>10135</td>\n",
       "      <td>15304</td>\n",
       "      <td>ABE</td>\n",
       "      <td>...</td>\n",
       "      <td>208.93</td>\n",
       "      <td>DL</td>\n",
       "      <td>0.4659</td>\n",
       "      <td>219.98</td>\n",
       "      <td>UA</td>\n",
       "      <td>0.1193</td>\n",
       "      <td>154.11</td>\n",
       "      <td>NaN</td>\n",
       "      <td>NaN</td>\n",
       "      <td>202131013515304ABETPA</td>\n",
       "    </tr>\n",
       "    <tr>\n",
       "      <th>2</th>\n",
       "      <td>Table1a</td>\n",
       "      <td>2021</td>\n",
       "      <td>3</td>\n",
       "      <td>30140</td>\n",
       "      <td>30194</td>\n",
       "      <td>Albuquerque, NM</td>\n",
       "      <td>Dallas/Fort Worth, TX</td>\n",
       "      <td>10140</td>\n",
       "      <td>11259</td>\n",
       "      <td>ABQ</td>\n",
       "      <td>...</td>\n",
       "      <td>184.56</td>\n",
       "      <td>WN</td>\n",
       "      <td>0.9968</td>\n",
       "      <td>184.44</td>\n",
       "      <td>WN</td>\n",
       "      <td>0.9968</td>\n",
       "      <td>184.44</td>\n",
       "      <td>NaN</td>\n",
       "      <td>NaN</td>\n",
       "      <td>202131014011259ABQDAL</td>\n",
       "    </tr>\n",
       "    <tr>\n",
       "      <th>3</th>\n",
       "      <td>Table1a</td>\n",
       "      <td>2021</td>\n",
       "      <td>3</td>\n",
       "      <td>30140</td>\n",
       "      <td>30194</td>\n",
       "      <td>Albuquerque, NM</td>\n",
       "      <td>Dallas/Fort Worth, TX</td>\n",
       "      <td>10140</td>\n",
       "      <td>11298</td>\n",
       "      <td>ABQ</td>\n",
       "      <td>...</td>\n",
       "      <td>182.64</td>\n",
       "      <td>AA</td>\n",
       "      <td>0.9774</td>\n",
       "      <td>183.09</td>\n",
       "      <td>AA</td>\n",
       "      <td>0.9774</td>\n",
       "      <td>183.09</td>\n",
       "      <td>NaN</td>\n",
       "      <td>NaN</td>\n",
       "      <td>202131014011298ABQDFW</td>\n",
       "    </tr>\n",
       "    <tr>\n",
       "      <th>4</th>\n",
       "      <td>Table1a</td>\n",
       "      <td>2021</td>\n",
       "      <td>3</td>\n",
       "      <td>30140</td>\n",
       "      <td>30466</td>\n",
       "      <td>Albuquerque, NM</td>\n",
       "      <td>Phoenix, AZ</td>\n",
       "      <td>10140</td>\n",
       "      <td>14107</td>\n",
       "      <td>ABQ</td>\n",
       "      <td>...</td>\n",
       "      <td>177.11</td>\n",
       "      <td>WN</td>\n",
       "      <td>0.6061</td>\n",
       "      <td>184.49</td>\n",
       "      <td>AA</td>\n",
       "      <td>0.3939</td>\n",
       "      <td>165.77</td>\n",
       "      <td>NaN</td>\n",
       "      <td>NaN</td>\n",
       "      <td>202131014014107ABQPHX</td>\n",
       "    </tr>\n",
       "  </tbody>\n",
       "</table>\n",
       "<p>5 rows × 23 columns</p>\n",
       "</div>"
      ],
      "text/plain": [
       "       tbl  Year  quarter  citymarketid_1  citymarketid_2  \\\n",
       "0  Table1a  2021        3           30135           33195   \n",
       "1  Table1a  2021        3           30135           33195   \n",
       "2  Table1a  2021        3           30140           30194   \n",
       "3  Table1a  2021        3           30140           30194   \n",
       "4  Table1a  2021        3           30140           30466   \n",
       "\n",
       "                            city1                          city2  airportid_1  \\\n",
       "0  Allentown/Bethlehem/Easton, PA  Tampa, FL (Metropolitan Area)        10135   \n",
       "1  Allentown/Bethlehem/Easton, PA  Tampa, FL (Metropolitan Area)        10135   \n",
       "2                 Albuquerque, NM          Dallas/Fort Worth, TX        10140   \n",
       "3                 Albuquerque, NM          Dallas/Fort Worth, TX        10140   \n",
       "4                 Albuquerque, NM                    Phoenix, AZ        10140   \n",
       "\n",
       "   airportid_2 airport_1  ...    fare  carrier_lg  large_ms  fare_lg  \\\n",
       "0        14112       ABE  ...   81.43          G4    1.0000    81.43   \n",
       "1        15304       ABE  ...  208.93          DL    0.4659   219.98   \n",
       "2        11259       ABQ  ...  184.56          WN    0.9968   184.44   \n",
       "3        11298       ABQ  ...  182.64          AA    0.9774   183.09   \n",
       "4        14107       ABQ  ...  177.11          WN    0.6061   184.49   \n",
       "\n",
       "  carrier_low   lf_ms  fare_low Geocoded_City1  Geocoded_City2  \\\n",
       "0          G4  1.0000     81.43            NaN             NaN   \n",
       "1          UA  0.1193    154.11            NaN             NaN   \n",
       "2          WN  0.9968    184.44            NaN             NaN   \n",
       "3          AA  0.9774    183.09            NaN             NaN   \n",
       "4          AA  0.3939    165.77            NaN             NaN   \n",
       "\n",
       "                 tbl1apk  \n",
       "0  202131013514112ABEPIE  \n",
       "1  202131013515304ABETPA  \n",
       "2  202131014011259ABQDAL  \n",
       "3  202131014011298ABQDFW  \n",
       "4  202131014014107ABQPHX  \n",
       "\n",
       "[5 rows x 23 columns]"
      ]
     },
     "execution_count": 6,
     "metadata": {},
     "output_type": "execute_result"
    }
   ],
   "source": [
    "fl.head()"
   ]
  },
  {
   "cell_type": "code",
   "execution_count": 7,
   "id": "dbf7eaed-9d98-4dee-8f4f-df846cad102c",
   "metadata": {
    "tags": []
   },
   "outputs": [
    {
     "data": {
      "text/plain": [
       "(244050, 23)"
      ]
     },
     "execution_count": 7,
     "metadata": {},
     "output_type": "execute_result"
    }
   ],
   "source": [
    "fl.shape"
   ]
  },
  {
   "cell_type": "code",
   "execution_count": 8,
   "id": "b27c207b-ac5b-47d9-b60e-d9519e7d6ba9",
   "metadata": {
    "tags": []
   },
   "outputs": [
    {
     "data": {
      "text/plain": [
       "Index(['tbl', 'Year', 'quarter', 'citymarketid_1', 'citymarketid_2', 'city1',\n",
       "       'city2', 'airportid_1', 'airportid_2', 'airport_1', 'airport_2',\n",
       "       'nsmiles', 'passengers', 'fare', 'carrier_lg', 'large_ms', 'fare_lg',\n",
       "       'carrier_low', 'lf_ms', 'fare_low', 'Geocoded_City1', 'Geocoded_City2',\n",
       "       'tbl1apk'],\n",
       "      dtype='object')"
      ]
     },
     "execution_count": 8,
     "metadata": {},
     "output_type": "execute_result"
    }
   ],
   "source": [
    "fl.columns"
   ]
  },
  {
   "cell_type": "code",
   "execution_count": 9,
   "id": "05dc0686-adfb-4a18-a447-3f760e1b411c",
   "metadata": {
    "tags": []
   },
   "outputs": [
    {
     "data": {
      "text/plain": [
       "array([2021, 2022, 2010, 1998, 2009, 1993, 2007, 2003, 2005, 2014, 2001,\n",
       "       2002, 2011, 1999, 2012, 2013, 1997, 2006, 1994, 1996, 2004, 2000,\n",
       "       2008, 2019, 2015, 2017, 2016, 2023, 2018, 2020])"
      ]
     },
     "execution_count": 9,
     "metadata": {},
     "output_type": "execute_result"
    }
   ],
   "source": [
    "fl['Year'].unique()"
   ]
  },
  {
   "cell_type": "code",
   "execution_count": 10,
   "id": "bf75df46-4703-40b8-b5a2-9e97fed12bac",
   "metadata": {},
   "outputs": [],
   "source": [
    "fl.drop(columns= ['tbl', 'Geocoded_City1', 'Geocoded_City2',\n",
    "       'tbl1apk', 'carrier_lg', 'large_ms', 'fare_lg',\n",
    "       'carrier_low', 'airportid_1', 'airportid_2', 'airport_1', 'airport_2', 'nsmiles', 'lf_ms'], inplace = True)"
   ]
  },
  {
   "cell_type": "code",
   "execution_count": 11,
   "id": "6d4e2728-9811-4eeb-b04f-a49becb671f4",
   "metadata": {},
   "outputs": [
    {
     "data": {
      "text/html": [
       "<div>\n",
       "<style scoped>\n",
       "    .dataframe tbody tr th:only-of-type {\n",
       "        vertical-align: middle;\n",
       "    }\n",
       "\n",
       "    .dataframe tbody tr th {\n",
       "        vertical-align: top;\n",
       "    }\n",
       "\n",
       "    .dataframe thead th {\n",
       "        text-align: right;\n",
       "    }\n",
       "</style>\n",
       "<table border=\"1\" class=\"dataframe\">\n",
       "  <thead>\n",
       "    <tr style=\"text-align: right;\">\n",
       "      <th></th>\n",
       "      <th>Year</th>\n",
       "      <th>quarter</th>\n",
       "      <th>citymarketid_1</th>\n",
       "      <th>citymarketid_2</th>\n",
       "      <th>city1</th>\n",
       "      <th>city2</th>\n",
       "      <th>passengers</th>\n",
       "      <th>fare</th>\n",
       "      <th>fare_low</th>\n",
       "    </tr>\n",
       "  </thead>\n",
       "  <tbody>\n",
       "    <tr>\n",
       "      <th>0</th>\n",
       "      <td>2021</td>\n",
       "      <td>3</td>\n",
       "      <td>30135</td>\n",
       "      <td>33195</td>\n",
       "      <td>Allentown/Bethlehem/Easton, PA</td>\n",
       "      <td>Tampa, FL (Metropolitan Area)</td>\n",
       "      <td>180</td>\n",
       "      <td>81.43</td>\n",
       "      <td>81.43</td>\n",
       "    </tr>\n",
       "    <tr>\n",
       "      <th>1</th>\n",
       "      <td>2021</td>\n",
       "      <td>3</td>\n",
       "      <td>30135</td>\n",
       "      <td>33195</td>\n",
       "      <td>Allentown/Bethlehem/Easton, PA</td>\n",
       "      <td>Tampa, FL (Metropolitan Area)</td>\n",
       "      <td>19</td>\n",
       "      <td>208.93</td>\n",
       "      <td>154.11</td>\n",
       "    </tr>\n",
       "    <tr>\n",
       "      <th>2</th>\n",
       "      <td>2021</td>\n",
       "      <td>3</td>\n",
       "      <td>30140</td>\n",
       "      <td>30194</td>\n",
       "      <td>Albuquerque, NM</td>\n",
       "      <td>Dallas/Fort Worth, TX</td>\n",
       "      <td>204</td>\n",
       "      <td>184.56</td>\n",
       "      <td>184.44</td>\n",
       "    </tr>\n",
       "    <tr>\n",
       "      <th>3</th>\n",
       "      <td>2021</td>\n",
       "      <td>3</td>\n",
       "      <td>30140</td>\n",
       "      <td>30194</td>\n",
       "      <td>Albuquerque, NM</td>\n",
       "      <td>Dallas/Fort Worth, TX</td>\n",
       "      <td>264</td>\n",
       "      <td>182.64</td>\n",
       "      <td>183.09</td>\n",
       "    </tr>\n",
       "    <tr>\n",
       "      <th>4</th>\n",
       "      <td>2021</td>\n",
       "      <td>3</td>\n",
       "      <td>30140</td>\n",
       "      <td>30466</td>\n",
       "      <td>Albuquerque, NM</td>\n",
       "      <td>Phoenix, AZ</td>\n",
       "      <td>398</td>\n",
       "      <td>177.11</td>\n",
       "      <td>165.77</td>\n",
       "    </tr>\n",
       "  </tbody>\n",
       "</table>\n",
       "</div>"
      ],
      "text/plain": [
       "   Year  quarter  citymarketid_1  citymarketid_2  \\\n",
       "0  2021        3           30135           33195   \n",
       "1  2021        3           30135           33195   \n",
       "2  2021        3           30140           30194   \n",
       "3  2021        3           30140           30194   \n",
       "4  2021        3           30140           30466   \n",
       "\n",
       "                            city1                          city2  passengers  \\\n",
       "0  Allentown/Bethlehem/Easton, PA  Tampa, FL (Metropolitan Area)         180   \n",
       "1  Allentown/Bethlehem/Easton, PA  Tampa, FL (Metropolitan Area)          19   \n",
       "2                 Albuquerque, NM          Dallas/Fort Worth, TX         204   \n",
       "3                 Albuquerque, NM          Dallas/Fort Worth, TX         264   \n",
       "4                 Albuquerque, NM                    Phoenix, AZ         398   \n",
       "\n",
       "     fare  fare_low  \n",
       "0   81.43     81.43  \n",
       "1  208.93    154.11  \n",
       "2  184.56    184.44  \n",
       "3  182.64    183.09  \n",
       "4  177.11    165.77  "
      ]
     },
     "execution_count": 11,
     "metadata": {},
     "output_type": "execute_result"
    }
   ],
   "source": [
    "fl.head()"
   ]
  },
  {
   "cell_type": "code",
   "execution_count": 12,
   "id": "09ec3247-42e0-4ddc-bf68-00eb5a35ee9c",
   "metadata": {},
   "outputs": [
    {
     "data": {
      "text/plain": [
       "(244050, 9)"
      ]
     },
     "execution_count": 12,
     "metadata": {},
     "output_type": "execute_result"
    }
   ],
   "source": [
    "fl.shape"
   ]
  },
  {
   "cell_type": "code",
   "execution_count": 13,
   "id": "7149054e-d7e1-488e-ab50-ae9980155ad7",
   "metadata": {},
   "outputs": [
    {
     "data": {
      "text/plain": [
       "Year                 0\n",
       "quarter              0\n",
       "citymarketid_1       0\n",
       "citymarketid_2       0\n",
       "city1                0\n",
       "city2                0\n",
       "passengers           0\n",
       "fare                 0\n",
       "fare_low          1606\n",
       "dtype: int64"
      ]
     },
     "execution_count": 13,
     "metadata": {},
     "output_type": "execute_result"
    }
   ],
   "source": [
    "fl.isnull().sum()"
   ]
  },
  {
   "cell_type": "code",
   "execution_count": 14,
   "id": "8f4fed1f-9e33-4f41-9848-1999a1baa3fd",
   "metadata": {
    "tags": []
   },
   "outputs": [],
   "source": [
    "def camel_to_snake(col):\n",
    "    return re.sub(r'(?<!^)(?=[A-Z])', '_', col).lower()"
   ]
  },
  {
   "cell_type": "code",
   "execution_count": 15,
   "id": "b060f3b6-e0e5-4114-b82b-c3b4ad4718c1",
   "metadata": {
    "tags": []
   },
   "outputs": [],
   "source": [
    "fl.columns = [camel_to_snake(col) for col in fl.columns]"
   ]
  },
  {
   "cell_type": "markdown",
   "id": "79ddb266-f508-4129-93ef-029f5e8dbd68",
   "metadata": {},
   "source": [
    "citymarketid_1 = City market ID is an identification number assigned by US DOT to identify a city market. Use this field to consolidate airports serving the same city market\n",
    "citymarketid_2 = \n",
    "nsmiles = Non-Stop market miles\n",
    "passenger = passenger per day\n",
    "fare = overall average fare\n",
    "fare_low = Average fare for the lowest carrier"
   ]
  },
  {
   "cell_type": "code",
   "execution_count": 17,
   "id": "671d773b-9f87-49d9-aee8-ddb27eab38f2",
   "metadata": {},
   "outputs": [
    {
     "data": {
      "text/html": [
       "<div>\n",
       "<style scoped>\n",
       "    .dataframe tbody tr th:only-of-type {\n",
       "        vertical-align: middle;\n",
       "    }\n",
       "\n",
       "    .dataframe tbody tr th {\n",
       "        vertical-align: top;\n",
       "    }\n",
       "\n",
       "    .dataframe thead th {\n",
       "        text-align: right;\n",
       "    }\n",
       "</style>\n",
       "<table border=\"1\" class=\"dataframe\">\n",
       "  <thead>\n",
       "    <tr style=\"text-align: right;\">\n",
       "      <th></th>\n",
       "      <th>year</th>\n",
       "      <th>quarter</th>\n",
       "      <th>citymarketid_1</th>\n",
       "      <th>citymarketid_2</th>\n",
       "      <th>city1</th>\n",
       "      <th>city2</th>\n",
       "      <th>passengers</th>\n",
       "      <th>fare</th>\n",
       "      <th>fare_low</th>\n",
       "    </tr>\n",
       "  </thead>\n",
       "  <tbody>\n",
       "    <tr>\n",
       "      <th>0</th>\n",
       "      <td>2021</td>\n",
       "      <td>3</td>\n",
       "      <td>30135</td>\n",
       "      <td>33195</td>\n",
       "      <td>Allentown/Bethlehem/Easton, PA</td>\n",
       "      <td>Tampa, FL (Metropolitan Area)</td>\n",
       "      <td>180</td>\n",
       "      <td>81.43</td>\n",
       "      <td>81.43</td>\n",
       "    </tr>\n",
       "    <tr>\n",
       "      <th>1</th>\n",
       "      <td>2021</td>\n",
       "      <td>3</td>\n",
       "      <td>30135</td>\n",
       "      <td>33195</td>\n",
       "      <td>Allentown/Bethlehem/Easton, PA</td>\n",
       "      <td>Tampa, FL (Metropolitan Area)</td>\n",
       "      <td>19</td>\n",
       "      <td>208.93</td>\n",
       "      <td>154.11</td>\n",
       "    </tr>\n",
       "    <tr>\n",
       "      <th>2</th>\n",
       "      <td>2021</td>\n",
       "      <td>3</td>\n",
       "      <td>30140</td>\n",
       "      <td>30194</td>\n",
       "      <td>Albuquerque, NM</td>\n",
       "      <td>Dallas/Fort Worth, TX</td>\n",
       "      <td>204</td>\n",
       "      <td>184.56</td>\n",
       "      <td>184.44</td>\n",
       "    </tr>\n",
       "    <tr>\n",
       "      <th>3</th>\n",
       "      <td>2021</td>\n",
       "      <td>3</td>\n",
       "      <td>30140</td>\n",
       "      <td>30194</td>\n",
       "      <td>Albuquerque, NM</td>\n",
       "      <td>Dallas/Fort Worth, TX</td>\n",
       "      <td>264</td>\n",
       "      <td>182.64</td>\n",
       "      <td>183.09</td>\n",
       "    </tr>\n",
       "    <tr>\n",
       "      <th>4</th>\n",
       "      <td>2021</td>\n",
       "      <td>3</td>\n",
       "      <td>30140</td>\n",
       "      <td>30466</td>\n",
       "      <td>Albuquerque, NM</td>\n",
       "      <td>Phoenix, AZ</td>\n",
       "      <td>398</td>\n",
       "      <td>177.11</td>\n",
       "      <td>165.77</td>\n",
       "    </tr>\n",
       "    <tr>\n",
       "      <th>...</th>\n",
       "      <td>...</td>\n",
       "      <td>...</td>\n",
       "      <td>...</td>\n",
       "      <td>...</td>\n",
       "      <td>...</td>\n",
       "      <td>...</td>\n",
       "      <td>...</td>\n",
       "      <td>...</td>\n",
       "      <td>...</td>\n",
       "    </tr>\n",
       "    <tr>\n",
       "      <th>244045</th>\n",
       "      <td>2023</td>\n",
       "      <td>4</td>\n",
       "      <td>35412</td>\n",
       "      <td>31703</td>\n",
       "      <td>Knoxville, TN</td>\n",
       "      <td>New York City, NY (Metropolitan Area)</td>\n",
       "      <td>251</td>\n",
       "      <td>285.28</td>\n",
       "      <td>243.20</td>\n",
       "    </tr>\n",
       "    <tr>\n",
       "      <th>244046</th>\n",
       "      <td>2023</td>\n",
       "      <td>4</td>\n",
       "      <td>35412</td>\n",
       "      <td>32467</td>\n",
       "      <td>Knoxville, TN</td>\n",
       "      <td>Miami, FL (Metropolitan Area)</td>\n",
       "      <td>261</td>\n",
       "      <td>146.87</td>\n",
       "      <td>116.00</td>\n",
       "    </tr>\n",
       "    <tr>\n",
       "      <th>244047</th>\n",
       "      <td>2023</td>\n",
       "      <td>4</td>\n",
       "      <td>35412</td>\n",
       "      <td>32467</td>\n",
       "      <td>Knoxville, TN</td>\n",
       "      <td>Miami, FL (Metropolitan Area)</td>\n",
       "      <td>86</td>\n",
       "      <td>281.16</td>\n",
       "      <td>259.68</td>\n",
       "    </tr>\n",
       "    <tr>\n",
       "      <th>244048</th>\n",
       "      <td>2023</td>\n",
       "      <td>4</td>\n",
       "      <td>35412</td>\n",
       "      <td>33195</td>\n",
       "      <td>Knoxville, TN</td>\n",
       "      <td>Tampa, FL (Metropolitan Area)</td>\n",
       "      <td>237</td>\n",
       "      <td>92.75</td>\n",
       "      <td>92.75</td>\n",
       "    </tr>\n",
       "    <tr>\n",
       "      <th>244049</th>\n",
       "      <td>2023</td>\n",
       "      <td>4</td>\n",
       "      <td>35412</td>\n",
       "      <td>33195</td>\n",
       "      <td>Knoxville, TN</td>\n",
       "      <td>Tampa, FL (Metropolitan Area)</td>\n",
       "      <td>58</td>\n",
       "      <td>350.81</td>\n",
       "      <td>315.82</td>\n",
       "    </tr>\n",
       "  </tbody>\n",
       "</table>\n",
       "<p>242444 rows × 9 columns</p>\n",
       "</div>"
      ],
      "text/plain": [
       "        year  quarter  citymarketid_1  citymarketid_2  \\\n",
       "0       2021        3           30135           33195   \n",
       "1       2021        3           30135           33195   \n",
       "2       2021        3           30140           30194   \n",
       "3       2021        3           30140           30194   \n",
       "4       2021        3           30140           30466   \n",
       "...      ...      ...             ...             ...   \n",
       "244045  2023        4           35412           31703   \n",
       "244046  2023        4           35412           32467   \n",
       "244047  2023        4           35412           32467   \n",
       "244048  2023        4           35412           33195   \n",
       "244049  2023        4           35412           33195   \n",
       "\n",
       "                                 city1                                  city2  \\\n",
       "0       Allentown/Bethlehem/Easton, PA          Tampa, FL (Metropolitan Area)   \n",
       "1       Allentown/Bethlehem/Easton, PA          Tampa, FL (Metropolitan Area)   \n",
       "2                      Albuquerque, NM                  Dallas/Fort Worth, TX   \n",
       "3                      Albuquerque, NM                  Dallas/Fort Worth, TX   \n",
       "4                      Albuquerque, NM                            Phoenix, AZ   \n",
       "...                                ...                                    ...   \n",
       "244045                   Knoxville, TN  New York City, NY (Metropolitan Area)   \n",
       "244046                   Knoxville, TN          Miami, FL (Metropolitan Area)   \n",
       "244047                   Knoxville, TN          Miami, FL (Metropolitan Area)   \n",
       "244048                   Knoxville, TN          Tampa, FL (Metropolitan Area)   \n",
       "244049                   Knoxville, TN          Tampa, FL (Metropolitan Area)   \n",
       "\n",
       "        passengers    fare  fare_low  \n",
       "0              180   81.43     81.43  \n",
       "1               19  208.93    154.11  \n",
       "2              204  184.56    184.44  \n",
       "3              264  182.64    183.09  \n",
       "4              398  177.11    165.77  \n",
       "...            ...     ...       ...  \n",
       "244045         251  285.28    243.20  \n",
       "244046         261  146.87    116.00  \n",
       "244047          86  281.16    259.68  \n",
       "244048         237   92.75     92.75  \n",
       "244049          58  350.81    315.82  \n",
       "\n",
       "[242444 rows x 9 columns]"
      ]
     },
     "execution_count": 17,
     "metadata": {},
     "output_type": "execute_result"
    }
   ],
   "source": [
    "#dropping nulls in fare_low\n",
    "fl.dropna()"
   ]
  },
  {
   "cell_type": "code",
   "execution_count": 18,
   "id": "497ab9e4-abc1-4b02-80a1-863f7eda158c",
   "metadata": {
    "tags": []
   },
   "outputs": [
    {
     "data": {
      "text/plain": [
       "year\n",
       "1993    9739\n",
       "1996    9081\n",
       "1997    8949\n",
       "1999    8757\n",
       "1998    8708\n",
       "2001    8648\n",
       "2002    8589\n",
       "2000    8541\n",
       "2003    8488\n",
       "2004    8466\n",
       "2005    8365\n",
       "2013    8301\n",
       "2012    8238\n",
       "2017    8232\n",
       "2014    8229\n",
       "2016    8227\n",
       "2006    8200\n",
       "2018    8195\n",
       "2015    8150\n",
       "2019    8148\n",
       "2011    8144\n",
       "2010    8113\n",
       "2009    8109\n",
       "2008    8107\n",
       "2007    7997\n",
       "2022    7809\n",
       "2023    7788\n",
       "2021    7758\n",
       "2020    7520\n",
       "1994    2454\n",
       "Name: count, dtype: int64"
      ]
     },
     "execution_count": 18,
     "metadata": {},
     "output_type": "execute_result"
    }
   ],
   "source": [
    "fl['year'].value_counts()"
   ]
  },
  {
   "cell_type": "code",
   "execution_count": 19,
   "id": "6aadcac5-5e8d-4ead-ad15-80fce2510190",
   "metadata": {
    "tags": []
   },
   "outputs": [],
   "source": [
    "fl.drop(columns= ['quarter', 'citymarketid_1', 'citymarketid_2', 'passengers', 'fare_low'], inplace = True)"
   ]
  },
  {
   "cell_type": "code",
   "execution_count": 20,
   "id": "9633435a-119e-4952-8bc1-a34503a138f4",
   "metadata": {
    "tags": []
   },
   "outputs": [],
   "source": [
    "#only interested in years 2020-2023 - other fares are more than likely outdated\n",
    "years_to_keep = [2020, 2021, 2022, 2023]\n",
    "fl_filtered = fl[fl['year'].isin(years_to_keep)]"
   ]
  },
  {
   "cell_type": "code",
   "execution_count": 21,
   "id": "262ee20f-54c8-4757-832a-809c033c57e5",
   "metadata": {
    "tags": []
   },
   "outputs": [
    {
     "data": {
      "text/plain": [
       "(30875, 4)"
      ]
     },
     "execution_count": 21,
     "metadata": {},
     "output_type": "execute_result"
    }
   ],
   "source": [
    "fl_filtered.shape"
   ]
  },
  {
   "cell_type": "code",
   "execution_count": 22,
   "id": "9dcaaaf2-3906-4311-b64a-9725efc8370e",
   "metadata": {
    "tags": []
   },
   "outputs": [
    {
     "data": {
      "text/plain": [
       "year\n",
       "2022    7809\n",
       "2023    7788\n",
       "2021    7758\n",
       "2020    7520\n",
       "Name: count, dtype: int64"
      ]
     },
     "execution_count": 22,
     "metadata": {},
     "output_type": "execute_result"
    }
   ],
   "source": [
    "fl_filtered['year'].value_counts()"
   ]
  },
  {
   "cell_type": "code",
   "execution_count": 23,
   "id": "93fada74-3c7a-4ef5-8a69-bed24402ef6a",
   "metadata": {
    "tags": []
   },
   "outputs": [
    {
     "data": {
      "text/html": [
       "<div>\n",
       "<style scoped>\n",
       "    .dataframe tbody tr th:only-of-type {\n",
       "        vertical-align: middle;\n",
       "    }\n",
       "\n",
       "    .dataframe tbody tr th {\n",
       "        vertical-align: top;\n",
       "    }\n",
       "\n",
       "    .dataframe thead th {\n",
       "        text-align: right;\n",
       "    }\n",
       "</style>\n",
       "<table border=\"1\" class=\"dataframe\">\n",
       "  <thead>\n",
       "    <tr style=\"text-align: right;\">\n",
       "      <th></th>\n",
       "      <th>year</th>\n",
       "      <th>city1</th>\n",
       "      <th>city2</th>\n",
       "      <th>fare</th>\n",
       "    </tr>\n",
       "  </thead>\n",
       "  <tbody>\n",
       "    <tr>\n",
       "      <th>0</th>\n",
       "      <td>2021</td>\n",
       "      <td>Allentown/Bethlehem/Easton, PA</td>\n",
       "      <td>Tampa, FL (Metropolitan Area)</td>\n",
       "      <td>81.43</td>\n",
       "    </tr>\n",
       "    <tr>\n",
       "      <th>1</th>\n",
       "      <td>2021</td>\n",
       "      <td>Allentown/Bethlehem/Easton, PA</td>\n",
       "      <td>Tampa, FL (Metropolitan Area)</td>\n",
       "      <td>208.93</td>\n",
       "    </tr>\n",
       "    <tr>\n",
       "      <th>2</th>\n",
       "      <td>2021</td>\n",
       "      <td>Albuquerque, NM</td>\n",
       "      <td>Dallas/Fort Worth, TX</td>\n",
       "      <td>184.56</td>\n",
       "    </tr>\n",
       "    <tr>\n",
       "      <th>3</th>\n",
       "      <td>2021</td>\n",
       "      <td>Albuquerque, NM</td>\n",
       "      <td>Dallas/Fort Worth, TX</td>\n",
       "      <td>182.64</td>\n",
       "    </tr>\n",
       "    <tr>\n",
       "      <th>4</th>\n",
       "      <td>2021</td>\n",
       "      <td>Albuquerque, NM</td>\n",
       "      <td>Phoenix, AZ</td>\n",
       "      <td>177.11</td>\n",
       "    </tr>\n",
       "  </tbody>\n",
       "</table>\n",
       "</div>"
      ],
      "text/plain": [
       "   year                           city1                          city2    fare\n",
       "0  2021  Allentown/Bethlehem/Easton, PA  Tampa, FL (Metropolitan Area)   81.43\n",
       "1  2021  Allentown/Bethlehem/Easton, PA  Tampa, FL (Metropolitan Area)  208.93\n",
       "2  2021                 Albuquerque, NM          Dallas/Fort Worth, TX  184.56\n",
       "3  2021                 Albuquerque, NM          Dallas/Fort Worth, TX  182.64\n",
       "4  2021                 Albuquerque, NM                    Phoenix, AZ  177.11"
      ]
     },
     "execution_count": 23,
     "metadata": {},
     "output_type": "execute_result"
    }
   ],
   "source": [
    "fl_filtered.head()"
   ]
  },
  {
   "cell_type": "code",
   "execution_count": 24,
   "id": "6ed46f91-0f2f-418f-8659-661e850397cc",
   "metadata": {
    "tags": []
   },
   "outputs": [
    {
     "data": {
      "text/plain": [
       "<bound method IndexOpsMixin.value_counts of 0         Allentown/Bethlehem/Easton, PA\n",
       "1         Allentown/Bethlehem/Easton, PA\n",
       "2                        Albuquerque, NM\n",
       "3                        Albuquerque, NM\n",
       "4                        Albuquerque, NM\n",
       "                       ...              \n",
       "244045                     Knoxville, TN\n",
       "244046                     Knoxville, TN\n",
       "244047                     Knoxville, TN\n",
       "244048                     Knoxville, TN\n",
       "244049                     Knoxville, TN\n",
       "Name: city1, Length: 30875, dtype: object>"
      ]
     },
     "execution_count": 24,
     "metadata": {},
     "output_type": "execute_result"
    }
   ],
   "source": [
    "fl_filtered['city1'].value_counts"
   ]
  },
  {
   "cell_type": "code",
   "execution_count": 25,
   "id": "8b97f570-58be-4a87-905d-3b4d16dab801",
   "metadata": {
    "tags": []
   },
   "outputs": [
    {
     "name": "stderr",
     "output_type": "stream",
     "text": [
      "/var/folders/7q/jsl03b552s5fnhvvhgv3sz100000gn/T/ipykernel_28938/434849404.py:2: SettingWithCopyWarning: \n",
      "A value is trying to be set on a copy of a slice from a DataFrame.\n",
      "Try using .loc[row_indexer,col_indexer] = value instead\n",
      "\n",
      "See the caveats in the documentation: https://pandas.pydata.org/pandas-docs/stable/user_guide/indexing.html#returning-a-view-versus-a-copy\n",
      "  fl_filtered[['city1', 'state1']] = fl.loc[:, 'city1'].str.split(', ',  n=1, expand=True)\n",
      "/var/folders/7q/jsl03b552s5fnhvvhgv3sz100000gn/T/ipykernel_28938/434849404.py:2: SettingWithCopyWarning: \n",
      "A value is trying to be set on a copy of a slice from a DataFrame.\n",
      "Try using .loc[row_indexer,col_indexer] = value instead\n",
      "\n",
      "See the caveats in the documentation: https://pandas.pydata.org/pandas-docs/stable/user_guide/indexing.html#returning-a-view-versus-a-copy\n",
      "  fl_filtered[['city1', 'state1']] = fl.loc[:, 'city1'].str.split(', ',  n=1, expand=True)\n",
      "/var/folders/7q/jsl03b552s5fnhvvhgv3sz100000gn/T/ipykernel_28938/434849404.py:3: SettingWithCopyWarning: \n",
      "A value is trying to be set on a copy of a slice from a DataFrame.\n",
      "Try using .loc[row_indexer,col_indexer] = value instead\n",
      "\n",
      "See the caveats in the documentation: https://pandas.pydata.org/pandas-docs/stable/user_guide/indexing.html#returning-a-view-versus-a-copy\n",
      "  fl_filtered[['city2', 'state2']] = fl.loc[:, 'city2'].str.split(', ', n=1, expand=True)\n",
      "/var/folders/7q/jsl03b552s5fnhvvhgv3sz100000gn/T/ipykernel_28938/434849404.py:3: SettingWithCopyWarning: \n",
      "A value is trying to be set on a copy of a slice from a DataFrame.\n",
      "Try using .loc[row_indexer,col_indexer] = value instead\n",
      "\n",
      "See the caveats in the documentation: https://pandas.pydata.org/pandas-docs/stable/user_guide/indexing.html#returning-a-view-versus-a-copy\n",
      "  fl_filtered[['city2', 'state2']] = fl.loc[:, 'city2'].str.split(', ', n=1, expand=True)\n"
     ]
    }
   ],
   "source": [
    "#separate city from state\n",
    "fl_filtered[['city1', 'state1']] = fl.loc[:, 'city1'].str.split(', ',  n=1, expand=True)\n",
    "fl_filtered[['city2', 'state2']] = fl.loc[:, 'city2'].str.split(', ', n=1, expand=True)"
   ]
  },
  {
   "cell_type": "code",
   "execution_count": 26,
   "id": "9370ccb4-57fa-42db-89e6-39fb6147cf3b",
   "metadata": {
    "tags": []
   },
   "outputs": [
    {
     "data": {
      "text/plain": [
       "year      0\n",
       "city1     0\n",
       "city2     0\n",
       "fare      0\n",
       "state1    0\n",
       "state2    0\n",
       "dtype: int64"
      ]
     },
     "execution_count": 26,
     "metadata": {},
     "output_type": "execute_result"
    }
   ],
   "source": [
    "fl_filtered.isnull().sum()"
   ]
  },
  {
   "cell_type": "code",
   "execution_count": 27,
   "id": "0dcd6df5-aed4-4f4a-8bdf-0ee5af7e639a",
   "metadata": {
    "tags": []
   },
   "outputs": [
    {
     "data": {
      "text/plain": [
       "(30875, 6)"
      ]
     },
     "execution_count": 27,
     "metadata": {},
     "output_type": "execute_result"
    }
   ],
   "source": [
    "fl_filtered.shape"
   ]
  },
  {
   "cell_type": "code",
   "execution_count": 28,
   "id": "bc77948a-1bb9-4a9f-8558-e9be7dd7fbb7",
   "metadata": {
    "tags": []
   },
   "outputs": [],
   "source": [
    "fl_filtered.to_csv('../data/flight_data_clean.csv', index=False) "
   ]
  },
  {
   "cell_type": "code",
   "execution_count": 29,
   "id": "58abe8cb-aec7-43aa-b4d2-f1d5635cc46f",
   "metadata": {},
   "outputs": [
    {
     "data": {
      "text/plain": [
       "array(['Allentown/Bethlehem/Easton', 'Albuquerque', 'Nantucket',\n",
       "       'Colorado Springs', 'Dallas/Fort Worth', 'Pittsburgh',\n",
       "       'Huntsville', 'Albany', 'Amarillo', 'Denver', 'Atlanta', 'Austin',\n",
       "       'Asheville', 'Tucson', 'Phoenix', 'Hartford', 'Seattle',\n",
       "       'Birmingham', 'El Paso', 'Cleveland', 'Nashville', 'Boise',\n",
       "       'Boston', 'Burlington', 'Buffalo', 'Bozeman', 'Washington',\n",
       "       'Chicago', 'Charleston', 'Cedar Rapids/Iowa City', 'Charlotte',\n",
       "       'Columbus', 'St. Louis', 'Myrtle Beach', 'Jacksonville', 'Detroit',\n",
       "       'Des Moines', 'Houston', 'Orlando', 'Panama City', 'Valparaiso',\n",
       "       'Eugene', 'Key West', 'Fargo', 'Kalispell', 'Minneapolis/St. Paul',\n",
       "       'New York City', 'Fort Myers', 'Greenville/Spartanburg',\n",
       "       'Grand Rapids', 'Greensboro/High Point', 'Las Vegas',\n",
       "       'Indianapolis', 'Jackson', 'Jackson/Vicksburg', 'San Francisco',\n",
       "       'Miami', 'Los Angeles', 'Little Rock', 'Louisville', 'Cincinnati',\n",
       "       'Sacramento', 'Tampa', 'Kansas City', 'San Antonio', 'Memphis',\n",
       "       'Omaha', 'Milwaukee', 'Madison', 'New Orleans',\n",
       "       \"Martha's Vineyard\", 'San Diego', 'Norfolk', 'Pensacola',\n",
       "       'Oklahoma City', 'Portland', 'Philadelphia', 'Palm Springs',\n",
       "       'Bend/Redmond', 'Raleigh/Durham', 'Reno', 'Rochester',\n",
       "       'Salt Lake City', 'Savannah', 'Springfield', 'Sarasota/Bradenton',\n",
       "       'Syracuse', 'Knoxville', 'Bismarck/Mandan', 'Columbia', 'Fresno',\n",
       "       'Fayetteville', 'Richmond', 'Atlantic City', 'Aspen', 'Appleton',\n",
       "       'Bangor', 'Billings', 'Eagle', 'Flint', 'Fort Wayne',\n",
       "       'Harlingen/San Benito', 'Everett', 'Peoria', 'Dayton', 'Minot',\n",
       "       'Belleville', 'Corpus Christi', 'Idaho Falls', 'Lexington',\n",
       "       'Harrisburg', 'Medford', 'Pasco/Kennewick/Richland', 'South Bend',\n",
       "       'Tulsa', 'Spokane', 'Missoula', 'Sioux Falls', 'Hilton Head',\n",
       "       'Ashland', 'Bellingham', 'Charlottesville', 'New Haven',\n",
       "       'Eureka/Arcata'], dtype=object)"
      ]
     },
     "execution_count": 29,
     "metadata": {},
     "output_type": "execute_result"
    }
   ],
   "source": [
    "fl_filtered['city1'].unique()"
   ]
  },
  {
   "cell_type": "code",
   "execution_count": 30,
   "id": "6e114071-b1ac-4a38-b62b-660d3e7656ac",
   "metadata": {},
   "outputs": [
    {
     "data": {
      "text/plain": [
       "fare\n",
       "200.76    11\n",
       "206.00     9\n",
       "183.89     9\n",
       "238.00     8\n",
       "179.50     8\n",
       "          ..\n",
       "350.81     1\n",
       "209.22     1\n",
       "361.77     1\n",
       "389.03     1\n",
       "342.13     1\n",
       "Name: count, Length: 18128, dtype: int64"
      ]
     },
     "execution_count": 30,
     "metadata": {},
     "output_type": "execute_result"
    }
   ],
   "source": [
    "fl_filtered['fare'].value_counts()"
   ]
  },
  {
   "cell_type": "code",
   "execution_count": 31,
   "id": "e3d85ca0-d9dd-46de-8d03-86bff1a90dfe",
   "metadata": {
    "tags": []
   },
   "outputs": [],
   "source": [
    "#keeping only city2 that matches cities of airbnb\n",
    "cities_to_keep = ['Austin', 'Boston', 'Chicago', 'Columbus', 'Denver', 'Ft Lauderdale', \n",
    "    'honolulu', 'Jersey City', 'Las Vegas', 'Los Angeles', 'Nashville', \n",
    "    'New Orleans', 'New York City', 'Portland', 'Rhode Island', \n",
    "    'San Diego', 'San Francisco', 'Seattle', 'Minneapolis', 'Washington']              "
   ]
  },
  {
   "cell_type": "code",
   "execution_count": 32,
   "id": "b2fd2a4d-39fe-44e8-af5c-a8e8bb0001f5",
   "metadata": {
    "tags": []
   },
   "outputs": [],
   "source": [
    "filtered_df = fl_filtered[fl_filtered['city2'].isin(cities_to_keep)]"
   ]
  },
  {
   "cell_type": "code",
   "execution_count": 33,
   "id": "e32d24a7-19bc-4cc9-b3fe-1f52818f10d4",
   "metadata": {
    "tags": []
   },
   "outputs": [
    {
     "data": {
      "text/plain": [
       "(16099, 6)"
      ]
     },
     "execution_count": 33,
     "metadata": {},
     "output_type": "execute_result"
    }
   ],
   "source": [
    "filtered_df.shape"
   ]
  },
  {
   "cell_type": "code",
   "execution_count": 34,
   "id": "fa0ffb2a-a239-4f79-94ef-0bfab89468ad",
   "metadata": {
    "tags": []
   },
   "outputs": [],
   "source": [
    "filtered_df.to_csv('../data/flight_data_clean.csv', index=False)"
   ]
  },
  {
   "cell_type": "markdown",
   "id": "702a16e3-9824-4ee8-9e8d-9fac79a32035",
   "metadata": {},
   "source": [
    "## Pivot Table created but ultimately not used.  "
   ]
  },
  {
   "cell_type": "code",
   "execution_count": 36,
   "id": "b6338793-82a5-4e35-934c-bebb996f0479",
   "metadata": {
    "tags": []
   },
   "outputs": [],
   "source": [
    "fare_mx = pd.pivot_table(\n",
    "    fl_filtered,\n",
    "    values = 'fare',\n",
    "    index = 'city2',\n",
    "    columns = 'city1'\n",
    ")"
   ]
  },
  {
   "cell_type": "code",
   "execution_count": 37,
   "id": "ac0b9d66-8b3a-490f-87ee-4cf4f75d128e",
   "metadata": {
    "tags": []
   },
   "outputs": [
    {
     "data": {
      "text/html": [
       "<div>\n",
       "<style scoped>\n",
       "    .dataframe tbody tr th:only-of-type {\n",
       "        vertical-align: middle;\n",
       "    }\n",
       "\n",
       "    .dataframe tbody tr th {\n",
       "        vertical-align: top;\n",
       "    }\n",
       "\n",
       "    .dataframe thead th {\n",
       "        text-align: right;\n",
       "    }\n",
       "</style>\n",
       "<table border=\"1\" class=\"dataframe\">\n",
       "  <thead>\n",
       "    <tr style=\"text-align: right;\">\n",
       "      <th>city1</th>\n",
       "      <th>Albany</th>\n",
       "      <th>Albuquerque</th>\n",
       "      <th>Allentown/Bethlehem/Easton</th>\n",
       "      <th>Amarillo</th>\n",
       "      <th>Appleton</th>\n",
       "      <th>Asheville</th>\n",
       "      <th>Ashland</th>\n",
       "      <th>Aspen</th>\n",
       "      <th>Atlanta</th>\n",
       "      <th>Atlantic City</th>\n",
       "      <th>...</th>\n",
       "      <th>South Bend</th>\n",
       "      <th>Spokane</th>\n",
       "      <th>Springfield</th>\n",
       "      <th>St. Louis</th>\n",
       "      <th>Syracuse</th>\n",
       "      <th>Tampa</th>\n",
       "      <th>Tucson</th>\n",
       "      <th>Tulsa</th>\n",
       "      <th>Valparaiso</th>\n",
       "      <th>Washington</th>\n",
       "    </tr>\n",
       "    <tr>\n",
       "      <th>city2</th>\n",
       "      <th></th>\n",
       "      <th></th>\n",
       "      <th></th>\n",
       "      <th></th>\n",
       "      <th></th>\n",
       "      <th></th>\n",
       "      <th></th>\n",
       "      <th></th>\n",
       "      <th></th>\n",
       "      <th></th>\n",
       "      <th></th>\n",
       "      <th></th>\n",
       "      <th></th>\n",
       "      <th></th>\n",
       "      <th></th>\n",
       "      <th></th>\n",
       "      <th></th>\n",
       "      <th></th>\n",
       "      <th></th>\n",
       "      <th></th>\n",
       "      <th></th>\n",
       "    </tr>\n",
       "  </thead>\n",
       "  <tbody>\n",
       "    <tr>\n",
       "      <th>Boston</th>\n",
       "      <td>NaN</td>\n",
       "      <td>345.422222</td>\n",
       "      <td>NaN</td>\n",
       "      <td>NaN</td>\n",
       "      <td>NaN</td>\n",
       "      <td>218.314444</td>\n",
       "      <td>NaN</td>\n",
       "      <td>NaN</td>\n",
       "      <td>216.9025</td>\n",
       "      <td>NaN</td>\n",
       "      <td>...</td>\n",
       "      <td>NaN</td>\n",
       "      <td>NaN</td>\n",
       "      <td>NaN</td>\n",
       "      <td>NaN</td>\n",
       "      <td>NaN</td>\n",
       "      <td>NaN</td>\n",
       "      <td>NaN</td>\n",
       "      <td>NaN</td>\n",
       "      <td>NaN</td>\n",
       "      <td>NaN</td>\n",
       "    </tr>\n",
       "    <tr>\n",
       "      <th>Bozeman</th>\n",
       "      <td>NaN</td>\n",
       "      <td>NaN</td>\n",
       "      <td>NaN</td>\n",
       "      <td>NaN</td>\n",
       "      <td>NaN</td>\n",
       "      <td>NaN</td>\n",
       "      <td>NaN</td>\n",
       "      <td>NaN</td>\n",
       "      <td>NaN</td>\n",
       "      <td>NaN</td>\n",
       "      <td>...</td>\n",
       "      <td>NaN</td>\n",
       "      <td>NaN</td>\n",
       "      <td>NaN</td>\n",
       "      <td>NaN</td>\n",
       "      <td>NaN</td>\n",
       "      <td>NaN</td>\n",
       "      <td>NaN</td>\n",
       "      <td>NaN</td>\n",
       "      <td>NaN</td>\n",
       "      <td>NaN</td>\n",
       "    </tr>\n",
       "    <tr>\n",
       "      <th>Buffalo</th>\n",
       "      <td>NaN</td>\n",
       "      <td>NaN</td>\n",
       "      <td>NaN</td>\n",
       "      <td>NaN</td>\n",
       "      <td>NaN</td>\n",
       "      <td>NaN</td>\n",
       "      <td>NaN</td>\n",
       "      <td>NaN</td>\n",
       "      <td>NaN</td>\n",
       "      <td>NaN</td>\n",
       "      <td>...</td>\n",
       "      <td>NaN</td>\n",
       "      <td>NaN</td>\n",
       "      <td>NaN</td>\n",
       "      <td>NaN</td>\n",
       "      <td>NaN</td>\n",
       "      <td>NaN</td>\n",
       "      <td>NaN</td>\n",
       "      <td>NaN</td>\n",
       "      <td>NaN</td>\n",
       "      <td>NaN</td>\n",
       "    </tr>\n",
       "    <tr>\n",
       "      <th>Charleston</th>\n",
       "      <td>NaN</td>\n",
       "      <td>NaN</td>\n",
       "      <td>NaN</td>\n",
       "      <td>NaN</td>\n",
       "      <td>NaN</td>\n",
       "      <td>NaN</td>\n",
       "      <td>NaN</td>\n",
       "      <td>NaN</td>\n",
       "      <td>NaN</td>\n",
       "      <td>NaN</td>\n",
       "      <td>...</td>\n",
       "      <td>NaN</td>\n",
       "      <td>NaN</td>\n",
       "      <td>NaN</td>\n",
       "      <td>NaN</td>\n",
       "      <td>NaN</td>\n",
       "      <td>NaN</td>\n",
       "      <td>NaN</td>\n",
       "      <td>NaN</td>\n",
       "      <td>NaN</td>\n",
       "      <td>NaN</td>\n",
       "    </tr>\n",
       "    <tr>\n",
       "      <th>Charlotte</th>\n",
       "      <td>NaN</td>\n",
       "      <td>NaN</td>\n",
       "      <td>NaN</td>\n",
       "      <td>NaN</td>\n",
       "      <td>NaN</td>\n",
       "      <td>NaN</td>\n",
       "      <td>NaN</td>\n",
       "      <td>NaN</td>\n",
       "      <td>NaN</td>\n",
       "      <td>NaN</td>\n",
       "      <td>...</td>\n",
       "      <td>NaN</td>\n",
       "      <td>NaN</td>\n",
       "      <td>NaN</td>\n",
       "      <td>NaN</td>\n",
       "      <td>NaN</td>\n",
       "      <td>NaN</td>\n",
       "      <td>NaN</td>\n",
       "      <td>NaN</td>\n",
       "      <td>NaN</td>\n",
       "      <td>NaN</td>\n",
       "    </tr>\n",
       "  </tbody>\n",
       "</table>\n",
       "<p>5 rows × 124 columns</p>\n",
       "</div>"
      ],
      "text/plain": [
       "city1       Albany  Albuquerque  Allentown/Bethlehem/Easton  Amarillo  \\\n",
       "city2                                                                   \n",
       "Boston         NaN   345.422222                         NaN       NaN   \n",
       "Bozeman        NaN          NaN                         NaN       NaN   \n",
       "Buffalo        NaN          NaN                         NaN       NaN   \n",
       "Charleston     NaN          NaN                         NaN       NaN   \n",
       "Charlotte      NaN          NaN                         NaN       NaN   \n",
       "\n",
       "city1       Appleton   Asheville  Ashland  Aspen   Atlanta  Atlantic City  \\\n",
       "city2                                                                       \n",
       "Boston           NaN  218.314444      NaN    NaN  216.9025            NaN   \n",
       "Bozeman          NaN         NaN      NaN    NaN       NaN            NaN   \n",
       "Buffalo          NaN         NaN      NaN    NaN       NaN            NaN   \n",
       "Charleston       NaN         NaN      NaN    NaN       NaN            NaN   \n",
       "Charlotte        NaN         NaN      NaN    NaN       NaN            NaN   \n",
       "\n",
       "city1       ...  South Bend  Spokane  Springfield  St. Louis  Syracuse  Tampa  \\\n",
       "city2       ...                                                                 \n",
       "Boston      ...         NaN      NaN          NaN        NaN       NaN    NaN   \n",
       "Bozeman     ...         NaN      NaN          NaN        NaN       NaN    NaN   \n",
       "Buffalo     ...         NaN      NaN          NaN        NaN       NaN    NaN   \n",
       "Charleston  ...         NaN      NaN          NaN        NaN       NaN    NaN   \n",
       "Charlotte   ...         NaN      NaN          NaN        NaN       NaN    NaN   \n",
       "\n",
       "city1       Tucson  Tulsa  Valparaiso  Washington  \n",
       "city2                                              \n",
       "Boston         NaN    NaN         NaN         NaN  \n",
       "Bozeman        NaN    NaN         NaN         NaN  \n",
       "Buffalo        NaN    NaN         NaN         NaN  \n",
       "Charleston     NaN    NaN         NaN         NaN  \n",
       "Charlotte      NaN    NaN         NaN         NaN  \n",
       "\n",
       "[5 rows x 124 columns]"
      ]
     },
     "execution_count": 37,
     "metadata": {},
     "output_type": "execute_result"
    }
   ],
   "source": [
    "fare_mx.head()"
   ]
  },
  {
   "cell_type": "code",
   "execution_count": 38,
   "id": "5f84adb7-bcf6-45f8-81ce-d5ea1d47be46",
   "metadata": {
    "tags": []
   },
   "outputs": [
    {
     "data": {
      "text/plain": [
       "(109, 124)"
      ]
     },
     "execution_count": 38,
     "metadata": {},
     "output_type": "execute_result"
    }
   ],
   "source": [
    "fare_mx.shape"
   ]
  },
  {
   "cell_type": "code",
   "execution_count": 39,
   "id": "e5d2f3ed-f1b1-400f-8f68-e397158dcd37",
   "metadata": {
    "tags": []
   },
   "outputs": [
    {
     "data": {
      "text/plain": [
       "Index(['year', 'city1', 'city2', 'fare', 'state1', 'state2'], dtype='object')"
      ]
     },
     "execution_count": 39,
     "metadata": {},
     "output_type": "execute_result"
    }
   ],
   "source": [
    "fl_filtered.columns"
   ]
  },
  {
   "cell_type": "markdown",
   "id": "9dd310b9-7a1f-4b52-9b55-1d517b64b6d2",
   "metadata": {},
   "source": [
    "Sparse Matrix"
   ]
  },
  {
   "cell_type": "code",
   "execution_count": 41,
   "id": "bdd7dd73-2100-488b-a5ab-bd9fd8786a3d",
   "metadata": {
    "tags": []
   },
   "outputs": [
    {
     "data": {
      "text/plain": [
       "fare\n",
       "200.76    11\n",
       "206.00     9\n",
       "183.89     9\n",
       "238.00     8\n",
       "179.50     8\n",
       "          ..\n",
       "350.81     1\n",
       "209.22     1\n",
       "361.77     1\n",
       "389.03     1\n",
       "342.13     1\n",
       "Name: count, Length: 18128, dtype: int64"
      ]
     },
     "execution_count": 41,
     "metadata": {},
     "output_type": "execute_result"
    }
   ],
   "source": [
    "fl_filtered['fare'].value_counts()"
   ]
  },
  {
   "cell_type": "code",
   "execution_count": 42,
   "id": "e5904630-74d2-4b24-958e-ec367344d409",
   "metadata": {
    "tags": []
   },
   "outputs": [],
   "source": [
    "fare_sparse = sparse.csr_matrix(fare_mx.fillna(0))"
   ]
  },
  {
   "cell_type": "code",
   "execution_count": 43,
   "id": "c1cf5f60-3182-4b4d-b72d-8e86ae33f043",
   "metadata": {
    "scrolled": true,
    "tags": []
   },
   "outputs": [
    {
     "name": "stdout",
     "output_type": "stream",
     "text": [
      "  (0, 1)\t345.4222222222222\n",
      "  (0, 5)\t218.31444444444443\n",
      "  (0, 8)\t216.9025\n",
      "  (0, 10)\t242.35833333333335\n",
      "  (1, 19)\t316.0680952380952\n",
      "  (2, 19)\t199.4039393939394\n",
      "  (3, 19)\t193.22\n",
      "  (4, 19)\t213.0822916666667\n",
      "  (5, 0)\t202.07227272727275\n",
      "  (5, 1)\t243.272\n",
      "  (5, 5)\t153.8075\n",
      "  (5, 7)\t240.03\n",
      "  (5, 8)\t157.718125\n",
      "  (5, 10)\t187.0178125\n",
      "  (5, 16)\t193.92633333333333\n",
      "  (5, 18)\t261.38\n",
      "  (5, 19)\t187.52166666666668\n",
      "  (5, 20)\t265.59727272727275\n",
      "  (5, 21)\t169.85142857142858\n",
      "  (5, 22)\t340.8925\n",
      "  (5, 24)\t185.0421875\n",
      "  (5, 25)\t175.10875\n",
      "  (6, 19)\t213.04833333333332\n",
      "  (6, 27)\t159.633125\n",
      "  (7, 8)\t194.095\n",
      "  :\t:\n",
      "  (104, 106)\t322.62\n",
      "  (104, 107)\t256.27208333333334\n",
      "  (104, 108)\t306.21979166666665\n",
      "  (104, 109)\t309.34027777777777\n",
      "  (104, 110)\t181.81333333333336\n",
      "  (104, 111)\t191.21062500000002\n",
      "  (104, 112)\t292.169375\n",
      "  (104, 115)\t211.38\n",
      "  (104, 117)\t197.51104166666667\n",
      "  (104, 118)\t182.99366666666668\n",
      "  (104, 119)\t186.78080000000003\n",
      "  (104, 120)\t315.6504166666667\n",
      "  (104, 121)\t213.24333333333334\n",
      "  (104, 122)\t224.0622222222222\n",
      "  (105, 19)\t207.51270833333334\n",
      "  (105, 27)\t248.50846153846155\n",
      "  (105, 29)\t143.31\n",
      "  (105, 34)\t286.233\n",
      "  (105, 71)\t302.65537037037035\n",
      "  (105, 87)\t201.57488372093022\n",
      "  (105, 123)\t199.99729166666668\n",
      "  (106, 71)\t212.80428571428573\n",
      "  (106, 98)\t146.67999999999998\n",
      "  (107, 87)\t214.9344827586207\n",
      "  (108, 77)\t179.9275\n"
     ]
    }
   ],
   "source": [
    "print(fare_sparse)"
   ]
  },
  {
   "cell_type": "code",
   "execution_count": 44,
   "id": "9eb7fd06-6952-4aef-a07e-f05d49ab9d84",
   "metadata": {
    "tags": []
   },
   "outputs": [],
   "source": [
    "import sys"
   ]
  },
  {
   "cell_type": "code",
   "execution_count": 45,
   "id": "6074503a-be8f-4f86-a2d2-68a9e252e7bf",
   "metadata": {
    "tags": []
   },
   "outputs": [
    {
     "data": {
      "text/plain": [
       "115495"
      ]
     },
     "execution_count": 45,
     "metadata": {},
     "output_type": "execute_result"
    }
   ],
   "source": [
    "sys.getsizeof(fare_mx)"
   ]
  },
  {
   "cell_type": "code",
   "execution_count": 46,
   "id": "5f2edcdd-715b-461c-89e9-74519854ae7e",
   "metadata": {
    "tags": []
   },
   "outputs": [
    {
     "data": {
      "text/plain": [
       "56"
      ]
     },
     "execution_count": 46,
     "metadata": {},
     "output_type": "execute_result"
    }
   ],
   "source": [
    "sys.getsizeof(fare_sparse)"
   ]
  },
  {
   "cell_type": "markdown",
   "id": "f00be358-15e3-4d62-9626-da2dd470374a",
   "metadata": {},
   "source": [
    "Cosine Similarity"
   ]
  },
  {
   "cell_type": "code",
   "execution_count": 48,
   "id": "c6d83a2e-6ef4-4ac7-9ad4-f41e9d69fdc8",
   "metadata": {
    "tags": []
   },
   "outputs": [],
   "source": [
    "# distance of 1 is a similarity of 0.\n",
    "dists = pairwise_distances(fare_sparse, metric='cosine')"
   ]
  },
  {
   "cell_type": "code",
   "execution_count": 49,
   "id": "24064eb5-4f17-497a-bac2-ab671326b279",
   "metadata": {
    "tags": []
   },
   "outputs": [
    {
     "name": "stdout",
     "output_type": "stream",
     "text": [
      "(109, 109)\n"
     ]
    },
    {
     "data": {
      "text/plain": [
       "array([[0.        , 1.        , 1.        , 1.        , 1.        ,\n",
       "        0.53631309, 1.        , 0.61254082, 1.        , 0.60547614],\n",
       "       [1.        , 0.        , 0.        , 0.        , 0.        ,\n",
       "        0.76965276, 0.199724  , 0.5715769 , 1.        , 0.53164062],\n",
       "       [1.        , 0.        , 0.        , 0.        , 0.        ,\n",
       "        0.76965276, 0.199724  , 0.5715769 , 1.        , 0.53164062],\n",
       "       [1.        , 0.        , 0.        , 0.        , 0.        ,\n",
       "        0.76965276, 0.199724  , 0.5715769 , 1.        , 0.53164062],\n",
       "       [1.        , 0.        , 0.        , 0.        , 0.        ,\n",
       "        0.76965276, 0.199724  , 0.5715769 , 1.        , 0.53164062],\n",
       "       [0.53631309, 0.76965276, 0.76965276, 0.76965276, 0.76965276,\n",
       "        0.        , 0.81565863, 0.54188271, 1.        , 0.5952323 ],\n",
       "       [1.        , 0.199724  , 0.199724  , 0.199724  , 0.199724  ,\n",
       "        0.81565863, 0.        , 0.44989571, 0.40036818, 0.40651601],\n",
       "       [0.61254082, 0.5715769 , 0.5715769 , 0.5715769 , 0.5715769 ,\n",
       "        0.54188271, 0.44989571, 0.        , 0.6543753 , 0.06322895],\n",
       "       [1.        , 1.        , 1.        , 1.        , 1.        ,\n",
       "        1.        , 0.40036818, 0.6543753 , 0.        , 0.63533086],\n",
       "       [0.60547614, 0.53164062, 0.53164062, 0.53164062, 0.53164062,\n",
       "        0.5952323 , 0.40651601, 0.06322895, 0.63533086, 0.        ]])"
      ]
     },
     "execution_count": 49,
     "metadata": {},
     "output_type": "execute_result"
    }
   ],
   "source": [
    "print(dists.shape)\n",
    "dists[:10, :10]"
   ]
  },
  {
   "cell_type": "markdown",
   "id": "13919324-c863-4c68-b852-93733b20196c",
   "metadata": {},
   "source": [
    "Distances DataFrame"
   ]
  },
  {
   "cell_type": "code",
   "execution_count": 51,
   "id": "adbfb140-e76a-405e-8e49-f0bd01974d52",
   "metadata": {
    "tags": []
   },
   "outputs": [],
   "source": [
    "fl_rec = pd.DataFrame(dists, columns=fare_mx.index, index = fare_mx.index)"
   ]
  },
  {
   "cell_type": "code",
   "execution_count": 52,
   "id": "e7ed075a-e566-420a-ac09-536d125aea68",
   "metadata": {
    "tags": []
   },
   "outputs": [
    {
     "data": {
      "text/html": [
       "<div>\n",
       "<style scoped>\n",
       "    .dataframe tbody tr th:only-of-type {\n",
       "        vertical-align: middle;\n",
       "    }\n",
       "\n",
       "    .dataframe tbody tr th {\n",
       "        vertical-align: top;\n",
       "    }\n",
       "\n",
       "    .dataframe thead th {\n",
       "        text-align: right;\n",
       "    }\n",
       "</style>\n",
       "<table border=\"1\" class=\"dataframe\">\n",
       "  <thead>\n",
       "    <tr style=\"text-align: right;\">\n",
       "      <th>city2</th>\n",
       "      <th>Boston</th>\n",
       "      <th>Bozeman</th>\n",
       "      <th>Buffalo</th>\n",
       "      <th>Charleston</th>\n",
       "      <th>Charlotte</th>\n",
       "      <th>Chicago</th>\n",
       "      <th>Cincinnati</th>\n",
       "      <th>Cleveland</th>\n",
       "      <th>Colorado Springs</th>\n",
       "      <th>Columbus</th>\n",
       "    </tr>\n",
       "    <tr>\n",
       "      <th>city2</th>\n",
       "      <th></th>\n",
       "      <th></th>\n",
       "      <th></th>\n",
       "      <th></th>\n",
       "      <th></th>\n",
       "      <th></th>\n",
       "      <th></th>\n",
       "      <th></th>\n",
       "      <th></th>\n",
       "      <th></th>\n",
       "    </tr>\n",
       "  </thead>\n",
       "  <tbody>\n",
       "    <tr>\n",
       "      <th>Boston</th>\n",
       "      <td>0.000000</td>\n",
       "      <td>1.000000</td>\n",
       "      <td>1.000000</td>\n",
       "      <td>1.000000</td>\n",
       "      <td>1.000000</td>\n",
       "      <td>0.536313</td>\n",
       "      <td>1.000000</td>\n",
       "      <td>0.612541</td>\n",
       "      <td>1.000000</td>\n",
       "      <td>0.605476</td>\n",
       "    </tr>\n",
       "    <tr>\n",
       "      <th>Bozeman</th>\n",
       "      <td>1.000000</td>\n",
       "      <td>0.000000</td>\n",
       "      <td>0.000000</td>\n",
       "      <td>0.000000</td>\n",
       "      <td>0.000000</td>\n",
       "      <td>0.769653</td>\n",
       "      <td>0.199724</td>\n",
       "      <td>0.571577</td>\n",
       "      <td>1.000000</td>\n",
       "      <td>0.531641</td>\n",
       "    </tr>\n",
       "    <tr>\n",
       "      <th>Buffalo</th>\n",
       "      <td>1.000000</td>\n",
       "      <td>0.000000</td>\n",
       "      <td>0.000000</td>\n",
       "      <td>0.000000</td>\n",
       "      <td>0.000000</td>\n",
       "      <td>0.769653</td>\n",
       "      <td>0.199724</td>\n",
       "      <td>0.571577</td>\n",
       "      <td>1.000000</td>\n",
       "      <td>0.531641</td>\n",
       "    </tr>\n",
       "    <tr>\n",
       "      <th>Charleston</th>\n",
       "      <td>1.000000</td>\n",
       "      <td>0.000000</td>\n",
       "      <td>0.000000</td>\n",
       "      <td>0.000000</td>\n",
       "      <td>0.000000</td>\n",
       "      <td>0.769653</td>\n",
       "      <td>0.199724</td>\n",
       "      <td>0.571577</td>\n",
       "      <td>1.000000</td>\n",
       "      <td>0.531641</td>\n",
       "    </tr>\n",
       "    <tr>\n",
       "      <th>Charlotte</th>\n",
       "      <td>1.000000</td>\n",
       "      <td>0.000000</td>\n",
       "      <td>0.000000</td>\n",
       "      <td>0.000000</td>\n",
       "      <td>0.000000</td>\n",
       "      <td>0.769653</td>\n",
       "      <td>0.199724</td>\n",
       "      <td>0.571577</td>\n",
       "      <td>1.000000</td>\n",
       "      <td>0.531641</td>\n",
       "    </tr>\n",
       "    <tr>\n",
       "      <th>Chicago</th>\n",
       "      <td>0.536313</td>\n",
       "      <td>0.769653</td>\n",
       "      <td>0.769653</td>\n",
       "      <td>0.769653</td>\n",
       "      <td>0.769653</td>\n",
       "      <td>0.000000</td>\n",
       "      <td>0.815659</td>\n",
       "      <td>0.541883</td>\n",
       "      <td>1.000000</td>\n",
       "      <td>0.595232</td>\n",
       "    </tr>\n",
       "    <tr>\n",
       "      <th>Cincinnati</th>\n",
       "      <td>1.000000</td>\n",
       "      <td>0.199724</td>\n",
       "      <td>0.199724</td>\n",
       "      <td>0.199724</td>\n",
       "      <td>0.199724</td>\n",
       "      <td>0.815659</td>\n",
       "      <td>0.000000</td>\n",
       "      <td>0.449896</td>\n",
       "      <td>0.400368</td>\n",
       "      <td>0.406516</td>\n",
       "    </tr>\n",
       "    <tr>\n",
       "      <th>Cleveland</th>\n",
       "      <td>0.612541</td>\n",
       "      <td>0.571577</td>\n",
       "      <td>0.571577</td>\n",
       "      <td>0.571577</td>\n",
       "      <td>0.571577</td>\n",
       "      <td>0.541883</td>\n",
       "      <td>0.449896</td>\n",
       "      <td>0.000000</td>\n",
       "      <td>0.654375</td>\n",
       "      <td>0.063229</td>\n",
       "    </tr>\n",
       "    <tr>\n",
       "      <th>Colorado Springs</th>\n",
       "      <td>1.000000</td>\n",
       "      <td>1.000000</td>\n",
       "      <td>1.000000</td>\n",
       "      <td>1.000000</td>\n",
       "      <td>1.000000</td>\n",
       "      <td>1.000000</td>\n",
       "      <td>0.400368</td>\n",
       "      <td>0.654375</td>\n",
       "      <td>0.000000</td>\n",
       "      <td>0.635331</td>\n",
       "    </tr>\n",
       "    <tr>\n",
       "      <th>Columbus</th>\n",
       "      <td>0.605476</td>\n",
       "      <td>0.531641</td>\n",
       "      <td>0.531641</td>\n",
       "      <td>0.531641</td>\n",
       "      <td>0.531641</td>\n",
       "      <td>0.595232</td>\n",
       "      <td>0.406516</td>\n",
       "      <td>0.063229</td>\n",
       "      <td>0.635331</td>\n",
       "      <td>0.000000</td>\n",
       "    </tr>\n",
       "  </tbody>\n",
       "</table>\n",
       "</div>"
      ],
      "text/plain": [
       "city2               Boston   Bozeman   Buffalo  Charleston  Charlotte  \\\n",
       "city2                                                                   \n",
       "Boston            0.000000  1.000000  1.000000    1.000000   1.000000   \n",
       "Bozeman           1.000000  0.000000  0.000000    0.000000   0.000000   \n",
       "Buffalo           1.000000  0.000000  0.000000    0.000000   0.000000   \n",
       "Charleston        1.000000  0.000000  0.000000    0.000000   0.000000   \n",
       "Charlotte         1.000000  0.000000  0.000000    0.000000   0.000000   \n",
       "Chicago           0.536313  0.769653  0.769653    0.769653   0.769653   \n",
       "Cincinnati        1.000000  0.199724  0.199724    0.199724   0.199724   \n",
       "Cleveland         0.612541  0.571577  0.571577    0.571577   0.571577   \n",
       "Colorado Springs  1.000000  1.000000  1.000000    1.000000   1.000000   \n",
       "Columbus          0.605476  0.531641  0.531641    0.531641   0.531641   \n",
       "\n",
       "city2              Chicago  Cincinnati  Cleveland  Colorado Springs  Columbus  \n",
       "city2                                                                          \n",
       "Boston            0.536313    1.000000   0.612541          1.000000  0.605476  \n",
       "Bozeman           0.769653    0.199724   0.571577          1.000000  0.531641  \n",
       "Buffalo           0.769653    0.199724   0.571577          1.000000  0.531641  \n",
       "Charleston        0.769653    0.199724   0.571577          1.000000  0.531641  \n",
       "Charlotte         0.769653    0.199724   0.571577          1.000000  0.531641  \n",
       "Chicago           0.000000    0.815659   0.541883          1.000000  0.595232  \n",
       "Cincinnati        0.815659    0.000000   0.449896          0.400368  0.406516  \n",
       "Cleveland         0.541883    0.449896   0.000000          0.654375  0.063229  \n",
       "Colorado Springs  1.000000    0.400368   0.654375          0.000000  0.635331  \n",
       "Columbus          0.595232    0.406516   0.063229          0.635331  0.000000  "
      ]
     },
     "execution_count": 52,
     "metadata": {},
     "output_type": "execute_result"
    }
   ],
   "source": [
    "fl_rec.iloc[:10, :10]"
   ]
  },
  {
   "cell_type": "code",
   "execution_count": 53,
   "id": "c3d800a6-e7d9-40b4-bc9e-f7450ca7a185",
   "metadata": {},
   "outputs": [
    {
     "data": {
      "text/plain": [
       "Index(['Chicago'], dtype='object', name='city2')"
      ]
     },
     "execution_count": 53,
     "metadata": {},
     "output_type": "execute_result"
    }
   ],
   "source": [
    "starting_city = fare_mx.index\n",
    "\n",
    "starting_city[starting_city.str.lower().str.contains('chicago')]"
   ]
  },
  {
   "cell_type": "code",
   "execution_count": 54,
   "id": "0a7bac1e-22d5-46ce-8792-c832cc988145",
   "metadata": {
    "tags": []
   },
   "outputs": [
    {
     "data": {
      "text/plain": [
       "city2\n",
       "Dallas/Fort Worth    0.317262\n",
       "Los Angeles          0.530974\n",
       "New York City        0.532197\n",
       "Boston               0.536313\n",
       "Cleveland            0.541883\n",
       "Columbus             0.595232\n",
       "Houston              0.601137\n",
       "Miami                0.630277\n",
       "Washington           0.642268\n",
       "Phoenix              0.678234\n",
       "Name: Chicago, dtype: float64"
      ]
     },
     "execution_count": 54,
     "metadata": {},
     "output_type": "execute_result"
    }
   ],
   "source": [
    "fl_rec['Chicago'].sort_values().iloc[1:].head(10)"
   ]
  },
  {
   "cell_type": "code",
   "execution_count": 55,
   "id": "a2be3206-433b-4e8b-be0b-6937b623b3c8",
   "metadata": {
    "tags": []
   },
   "outputs": [
    {
     "data": {
      "text/plain": [
       "Index(['Las Vegas'], dtype='object', name='city2')"
      ]
     },
     "execution_count": 55,
     "metadata": {},
     "output_type": "execute_result"
    }
   ],
   "source": [
    "starting_city[starting_city.str.lower().str.contains('las vegas')]"
   ]
  },
  {
   "cell_type": "code",
   "execution_count": 56,
   "id": "13eb2a60-4a9e-4b7a-9545-2a88589fd911",
   "metadata": {
    "tags": []
   },
   "outputs": [
    {
     "data": {
      "text/plain": [
       "city2\n",
       "Denver                  0.068280\n",
       "Fort Myers              0.082577\n",
       "Philadelphia            0.157329\n",
       "Minneapolis/St. Paul    0.161650\n",
       "Name: Las Vegas, dtype: float64"
      ]
     },
     "execution_count": 56,
     "metadata": {},
     "output_type": "execute_result"
    }
   ],
   "source": [
    "fl_rec['Las Vegas'].sort_values().iloc[1:5]"
   ]
  },
  {
   "cell_type": "code",
   "execution_count": null,
   "id": "7800128a-11ac-47c3-a028-cc542ee415d0",
   "metadata": {},
   "outputs": [],
   "source": []
  }
 ],
 "metadata": {
  "kernelspec": {
   "display_name": "Python 3 (ipykernel)",
   "language": "python",
   "name": "python3"
  },
  "language_info": {
   "codemirror_mode": {
    "name": "ipython",
    "version": 3
   },
   "file_extension": ".py",
   "mimetype": "text/x-python",
   "name": "python",
   "nbconvert_exporter": "python",
   "pygments_lexer": "ipython3",
   "version": "3.11.7"
  }
 },
 "nbformat": 4,
 "nbformat_minor": 5
}
