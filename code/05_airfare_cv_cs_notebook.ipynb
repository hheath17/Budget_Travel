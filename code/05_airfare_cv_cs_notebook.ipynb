{
 "cells": [
  {
   "cell_type": "markdown",
   "id": "c3b871a8-6e10-4d1f-a7fb-7dbb46324750",
   "metadata": {},
   "source": [
    "# Airfare Countvectorizer and Cosine Similarities Performed."
   ]
  },
  {
   "cell_type": "code",
   "execution_count": 4,
   "id": "5e317c15-7f60-41f7-acfc-2d01136d147c",
   "metadata": {
    "tags": []
   },
   "outputs": [],
   "source": [
    "import pandas as pd\n",
    "import numpy as np\n",
    "\n",
    "from sklearn.feature_extraction.text import CountVectorizer\n",
    "from sklearn.metrics.pairwise import cosine_similarity"
   ]
  },
  {
   "cell_type": "code",
   "execution_count": 5,
   "id": "dc4e4223-ea96-4fdc-bf00-4a7b719ae359",
   "metadata": {
    "tags": []
   },
   "outputs": [],
   "source": [
    "df = pd.read_csv('../data/flight_data_clean.csv')"
   ]
  },
  {
   "cell_type": "code",
   "execution_count": 6,
   "id": "5e24497d-cfb8-4ec0-bbe6-dbd8f010f2c2",
   "metadata": {
    "tags": []
   },
   "outputs": [
    {
     "data": {
      "text/html": [
       "<div>\n",
       "<style scoped>\n",
       "    .dataframe tbody tr th:only-of-type {\n",
       "        vertical-align: middle;\n",
       "    }\n",
       "\n",
       "    .dataframe tbody tr th {\n",
       "        vertical-align: top;\n",
       "    }\n",
       "\n",
       "    .dataframe thead th {\n",
       "        text-align: right;\n",
       "    }\n",
       "</style>\n",
       "<table border=\"1\" class=\"dataframe\">\n",
       "  <thead>\n",
       "    <tr style=\"text-align: right;\">\n",
       "      <th></th>\n",
       "      <th>year</th>\n",
       "      <th>city1</th>\n",
       "      <th>city2</th>\n",
       "      <th>fare</th>\n",
       "      <th>state1</th>\n",
       "      <th>state2</th>\n",
       "    </tr>\n",
       "  </thead>\n",
       "  <tbody>\n",
       "    <tr>\n",
       "      <th>0</th>\n",
       "      <td>2021</td>\n",
       "      <td>Albuquerque</td>\n",
       "      <td>Boston</td>\n",
       "      <td>324.97</td>\n",
       "      <td>NM</td>\n",
       "      <td>MA (Metropolitan Area)</td>\n",
       "    </tr>\n",
       "    <tr>\n",
       "      <th>1</th>\n",
       "      <td>2021</td>\n",
       "      <td>Albuquerque</td>\n",
       "      <td>Boston</td>\n",
       "      <td>315.90</td>\n",
       "      <td>NM</td>\n",
       "      <td>MA (Metropolitan Area)</td>\n",
       "    </tr>\n",
       "    <tr>\n",
       "      <th>2</th>\n",
       "      <td>2021</td>\n",
       "      <td>Albuquerque</td>\n",
       "      <td>Boston</td>\n",
       "      <td>329.22</td>\n",
       "      <td>NM</td>\n",
       "      <td>MA (Metropolitan Area)</td>\n",
       "    </tr>\n",
       "    <tr>\n",
       "      <th>3</th>\n",
       "      <td>2021</td>\n",
       "      <td>Albuquerque</td>\n",
       "      <td>Washington</td>\n",
       "      <td>255.89</td>\n",
       "      <td>NM</td>\n",
       "      <td>DC (Metropolitan Area)</td>\n",
       "    </tr>\n",
       "    <tr>\n",
       "      <th>4</th>\n",
       "      <td>2021</td>\n",
       "      <td>Albuquerque</td>\n",
       "      <td>Washington</td>\n",
       "      <td>291.16</td>\n",
       "      <td>NM</td>\n",
       "      <td>DC (Metropolitan Area)</td>\n",
       "    </tr>\n",
       "  </tbody>\n",
       "</table>\n",
       "</div>"
      ],
      "text/plain": [
       "   year        city1       city2    fare state1                  state2\n",
       "0  2021  Albuquerque      Boston  324.97     NM  MA (Metropolitan Area)\n",
       "1  2021  Albuquerque      Boston  315.90     NM  MA (Metropolitan Area)\n",
       "2  2021  Albuquerque      Boston  329.22     NM  MA (Metropolitan Area)\n",
       "3  2021  Albuquerque  Washington  255.89     NM  DC (Metropolitan Area)\n",
       "4  2021  Albuquerque  Washington  291.16     NM  DC (Metropolitan Area)"
      ]
     },
     "execution_count": 6,
     "metadata": {},
     "output_type": "execute_result"
    }
   ],
   "source": [
    "df.head()"
   ]
  },
  {
   "cell_type": "code",
   "execution_count": 7,
   "id": "077ff7ce-1743-4e35-a14f-35102d6eb0e6",
   "metadata": {
    "tags": []
   },
   "outputs": [
    {
     "data": {
      "text/plain": [
       "(16099, 6)"
      ]
     },
     "execution_count": 7,
     "metadata": {},
     "output_type": "execute_result"
    }
   ],
   "source": [
    "df.shape"
   ]
  },
  {
   "cell_type": "code",
   "execution_count": 8,
   "id": "fa8f423c-f8a5-43a3-9135-5c80570e6804",
   "metadata": {
    "tags": []
   },
   "outputs": [
    {
     "name": "stdout",
     "output_type": "stream",
     "text": [
      "<class 'pandas.core.frame.DataFrame'>\n",
      "RangeIndex: 16099 entries, 0 to 16098\n",
      "Data columns (total 6 columns):\n",
      " #   Column  Non-Null Count  Dtype  \n",
      "---  ------  --------------  -----  \n",
      " 0   year    16099 non-null  int64  \n",
      " 1   city1   16099 non-null  object \n",
      " 2   city2   16099 non-null  object \n",
      " 3   fare    16099 non-null  float64\n",
      " 4   state1  16099 non-null  object \n",
      " 5   state2  16099 non-null  object \n",
      "dtypes: float64(1), int64(1), object(4)\n",
      "memory usage: 754.8+ KB\n"
     ]
    }
   ],
   "source": [
    "df.info()"
   ]
  },
  {
   "cell_type": "markdown",
   "id": "b49eb8ea-33e3-4d85-9401-5fbd095829a6",
   "metadata": {},
   "source": [
    "# Airfare Recommender System.\n",
    "\n",
    "Followed link provided from Hank to CountVectorize and get Cosine Similarities for a recommender system.  (365datascience.com).  This code provides the similarities between city1 (departure city) and city2 (arrival city) which can be later used with budget input."
   ]
  },
  {
   "cell_type": "code",
   "execution_count": 10,
   "id": "8926351e-e594-4371-9748-1c5ad676f078",
   "metadata": {
    "tags": []
   },
   "outputs": [
    {
     "data": {
      "text/plain": [
       "16003"
      ]
     },
     "execution_count": 10,
     "metadata": {},
     "output_type": "execute_result"
    }
   ],
   "source": [
    "#removing duplicates\n",
    "df.duplicated(subset='city1').sum()"
   ]
  },
  {
   "cell_type": "code",
   "execution_count": 11,
   "id": "05a36562-b594-4060-9e06-461f7940a040",
   "metadata": {
    "tags": []
   },
   "outputs": [],
   "source": [
    "df = df.drop_duplicates(subset='city1')"
   ]
  },
  {
   "cell_type": "code",
   "execution_count": 12,
   "id": "d124b6d7-6e71-4453-b62e-0db229f374bc",
   "metadata": {
    "tags": []
   },
   "outputs": [
    {
     "data": {
      "text/plain": [
       "0"
      ]
     },
     "execution_count": 12,
     "metadata": {},
     "output_type": "execute_result"
    }
   ],
   "source": [
    "#checking that duplicates were dropped\n",
    "df.duplicated(subset='city1').sum()"
   ]
  },
  {
   "cell_type": "code",
   "execution_count": 13,
   "id": "61ea5d9e-36dc-4a4a-99cf-0487d500e94c",
   "metadata": {
    "tags": []
   },
   "outputs": [],
   "source": [
    "#dropping columns not needed\n",
    "df.drop(['year', 'state1', 'state2'], axis=1, inplace=True)"
   ]
  },
  {
   "cell_type": "code",
   "execution_count": 14,
   "id": "457a0bba-7cc0-4d92-8631-9c8686775178",
   "metadata": {
    "tags": []
   },
   "outputs": [],
   "source": [
    "def clean_text(city1):\n",
    "    result = str(city1).lower()\n",
    "    return(result.replace(' ', ''))"
   ]
  },
  {
   "cell_type": "code",
   "execution_count": 15,
   "id": "ecb73bbf-ab01-4da2-a9cb-9c8b9586fc35",
   "metadata": {
    "tags": []
   },
   "outputs": [],
   "source": [
    "df['city1'] = df['city1'].apply(clean_text)"
   ]
  },
  {
   "cell_type": "code",
   "execution_count": 16,
   "id": "6f3c230f-83e5-42fb-8b7d-c225910ef8e5",
   "metadata": {
    "tags": []
   },
   "outputs": [
    {
     "data": {
      "text/html": [
       "<div>\n",
       "<style scoped>\n",
       "    .dataframe tbody tr th:only-of-type {\n",
       "        vertical-align: middle;\n",
       "    }\n",
       "\n",
       "    .dataframe tbody tr th {\n",
       "        vertical-align: top;\n",
       "    }\n",
       "\n",
       "    .dataframe thead th {\n",
       "        text-align: right;\n",
       "    }\n",
       "</style>\n",
       "<table border=\"1\" class=\"dataframe\">\n",
       "  <thead>\n",
       "    <tr style=\"text-align: right;\">\n",
       "      <th></th>\n",
       "      <th>city1</th>\n",
       "      <th>city2</th>\n",
       "      <th>fare</th>\n",
       "    </tr>\n",
       "  </thead>\n",
       "  <tbody>\n",
       "    <tr>\n",
       "      <th>0</th>\n",
       "      <td>albuquerque</td>\n",
       "      <td>Boston</td>\n",
       "      <td>324.97</td>\n",
       "    </tr>\n",
       "    <tr>\n",
       "      <th>22</th>\n",
       "      <td>nantucket</td>\n",
       "      <td>New York City</td>\n",
       "      <td>165.27</td>\n",
       "    </tr>\n",
       "    <tr>\n",
       "      <th>26</th>\n",
       "      <td>coloradosprings</td>\n",
       "      <td>Washington</td>\n",
       "      <td>251.59</td>\n",
       "    </tr>\n",
       "    <tr>\n",
       "      <th>34</th>\n",
       "      <td>dallas/fortworth</td>\n",
       "      <td>Denver</td>\n",
       "      <td>134.10</td>\n",
       "    </tr>\n",
       "    <tr>\n",
       "      <th>81</th>\n",
       "      <td>pittsburgh</td>\n",
       "      <td>San Francisco</td>\n",
       "      <td>297.78</td>\n",
       "    </tr>\n",
       "  </tbody>\n",
       "</table>\n",
       "</div>"
      ],
      "text/plain": [
       "               city1          city2    fare\n",
       "0        albuquerque         Boston  324.97\n",
       "22         nantucket  New York City  165.27\n",
       "26   coloradosprings     Washington  251.59\n",
       "34  dallas/fortworth         Denver  134.10\n",
       "81        pittsburgh  San Francisco  297.78"
      ]
     },
     "execution_count": 16,
     "metadata": {},
     "output_type": "execute_result"
    }
   ],
   "source": [
    "df.head()"
   ]
  },
  {
   "cell_type": "code",
   "execution_count": 17,
   "id": "f1ce58f9-2f45-46c8-a9cb-2b4e6efa4f90",
   "metadata": {
    "tags": []
   },
   "outputs": [],
   "source": [
    "df['city2'] = df['city2'].str.lower()"
   ]
  },
  {
   "cell_type": "code",
   "execution_count": 18,
   "id": "132e55ef-76d1-4432-8544-a81c194ecf36",
   "metadata": {
    "tags": []
   },
   "outputs": [
    {
     "name": "stdout",
     "output_type": "stream",
     "text": [
      "0             albuquerque boston\n",
      "22       nantucket new york city\n",
      "26    coloradosprings washington\n",
      "34       dallas/fortworth denver\n",
      "81      pittsburgh san francisco\n",
      "Name: data, dtype: object\n"
     ]
    }
   ],
   "source": [
    "df2 = df.drop(['fare'], axis=1)\n",
    "df2['data'] = df2[df2.columns[0:]].apply( \n",
    "    lambda x: ' '.join(x.dropna().astype(str)), axis=1)\n",
    "\n",
    "print(df2['data'].head())"
   ]
  },
  {
   "cell_type": "code",
   "execution_count": 19,
   "id": "0d228e54-3487-4f13-bec9-b7e3f0cc19fa",
   "metadata": {
    "tags": []
   },
   "outputs": [],
   "source": [
    "vectorizer = CountVectorizer()\n",
    "vectorized = vectorizer.fit_transform(df2['data'])"
   ]
  },
  {
   "cell_type": "code",
   "execution_count": 20,
   "id": "44070b4c-2b85-4264-bde8-f8dae15f1bec",
   "metadata": {
    "tags": []
   },
   "outputs": [],
   "source": [
    "similarities = cosine_similarity(vectorized)"
   ]
  },
  {
   "cell_type": "code",
   "execution_count": 21,
   "id": "1885e7c3-cd83-4786-843e-4f295e1656bc",
   "metadata": {
    "tags": []
   },
   "outputs": [
    {
     "name": "stdout",
     "output_type": "stream",
     "text": [
      "[[1.   0.   0.   ... 0.   0.   0.  ]\n",
      " [0.   1.   0.   ... 0.   0.75 0.  ]\n",
      " [0.   0.   1.   ... 0.   0.   0.  ]\n",
      " ...\n",
      " [0.   0.   0.   ... 1.   0.   0.  ]\n",
      " [0.   0.75 0.   ... 0.   1.   0.  ]\n",
      " [0.   0.   0.   ... 0.   0.   1.  ]]\n"
     ]
    }
   ],
   "source": [
    "print(similarities)"
   ]
  },
  {
   "cell_type": "code",
   "execution_count": 22,
   "id": "bde240ef-8299-4f3d-99fb-8250bac74a03",
   "metadata": {
    "tags": []
   },
   "outputs": [],
   "source": [
    "df = pd.DataFrame(similarities, columns=df['city1'], index=df['city1']).reset_index()"
   ]
  },
  {
   "cell_type": "code",
   "execution_count": 23,
   "id": "50dcef0c-356e-451b-ab4c-c9be1c8ae1e4",
   "metadata": {
    "tags": []
   },
   "outputs": [
    {
     "data": {
      "text/html": [
       "<div>\n",
       "<style scoped>\n",
       "    .dataframe tbody tr th:only-of-type {\n",
       "        vertical-align: middle;\n",
       "    }\n",
       "\n",
       "    .dataframe tbody tr th {\n",
       "        vertical-align: top;\n",
       "    }\n",
       "\n",
       "    .dataframe thead th {\n",
       "        text-align: right;\n",
       "    }\n",
       "</style>\n",
       "<table border=\"1\" class=\"dataframe\">\n",
       "  <thead>\n",
       "    <tr style=\"text-align: right;\">\n",
       "      <th>city1</th>\n",
       "      <th>city1</th>\n",
       "      <th>albuquerque</th>\n",
       "      <th>nantucket</th>\n",
       "      <th>coloradosprings</th>\n",
       "      <th>dallas/fortworth</th>\n",
       "      <th>pittsburgh</th>\n",
       "      <th>huntsville</th>\n",
       "      <th>albany</th>\n",
       "      <th>denver</th>\n",
       "      <th>atlanta</th>\n",
       "      <th>...</th>\n",
       "      <th>dayton</th>\n",
       "      <th>everett</th>\n",
       "      <th>tulsa</th>\n",
       "      <th>spokane</th>\n",
       "      <th>hiltonhead</th>\n",
       "      <th>bellingham</th>\n",
       "      <th>bangor</th>\n",
       "      <th>richmond</th>\n",
       "      <th>charlottesville</th>\n",
       "      <th>eureka/arcata</th>\n",
       "    </tr>\n",
       "  </thead>\n",
       "  <tbody>\n",
       "    <tr>\n",
       "      <th>91</th>\n",
       "      <td>bellingham</td>\n",
       "      <td>0.0</td>\n",
       "      <td>0.00</td>\n",
       "      <td>0.0</td>\n",
       "      <td>0.0</td>\n",
       "      <td>0.666667</td>\n",
       "      <td>0.0</td>\n",
       "      <td>0.0</td>\n",
       "      <td>0.0</td>\n",
       "      <td>0.0</td>\n",
       "      <td>...</td>\n",
       "      <td>0.0</td>\n",
       "      <td>0.00000</td>\n",
       "      <td>0.0</td>\n",
       "      <td>0.0</td>\n",
       "      <td>0.00</td>\n",
       "      <td>1.000000</td>\n",
       "      <td>0.00</td>\n",
       "      <td>0.666667</td>\n",
       "      <td>0.00</td>\n",
       "      <td>0.0</td>\n",
       "    </tr>\n",
       "    <tr>\n",
       "      <th>92</th>\n",
       "      <td>bangor</td>\n",
       "      <td>0.0</td>\n",
       "      <td>0.75</td>\n",
       "      <td>0.0</td>\n",
       "      <td>0.0</td>\n",
       "      <td>0.000000</td>\n",
       "      <td>0.0</td>\n",
       "      <td>0.0</td>\n",
       "      <td>0.0</td>\n",
       "      <td>0.0</td>\n",
       "      <td>...</td>\n",
       "      <td>0.0</td>\n",
       "      <td>0.00000</td>\n",
       "      <td>0.0</td>\n",
       "      <td>0.0</td>\n",
       "      <td>0.75</td>\n",
       "      <td>0.000000</td>\n",
       "      <td>1.00</td>\n",
       "      <td>0.000000</td>\n",
       "      <td>0.75</td>\n",
       "      <td>0.0</td>\n",
       "    </tr>\n",
       "    <tr>\n",
       "      <th>93</th>\n",
       "      <td>richmond</td>\n",
       "      <td>0.0</td>\n",
       "      <td>0.00</td>\n",
       "      <td>0.0</td>\n",
       "      <td>0.0</td>\n",
       "      <td>0.666667</td>\n",
       "      <td>0.0</td>\n",
       "      <td>0.0</td>\n",
       "      <td>0.0</td>\n",
       "      <td>0.0</td>\n",
       "      <td>...</td>\n",
       "      <td>0.0</td>\n",
       "      <td>0.00000</td>\n",
       "      <td>0.0</td>\n",
       "      <td>0.0</td>\n",
       "      <td>0.00</td>\n",
       "      <td>0.666667</td>\n",
       "      <td>0.00</td>\n",
       "      <td>1.000000</td>\n",
       "      <td>0.00</td>\n",
       "      <td>0.0</td>\n",
       "    </tr>\n",
       "    <tr>\n",
       "      <th>94</th>\n",
       "      <td>charlottesville</td>\n",
       "      <td>0.0</td>\n",
       "      <td>0.75</td>\n",
       "      <td>0.0</td>\n",
       "      <td>0.0</td>\n",
       "      <td>0.000000</td>\n",
       "      <td>0.0</td>\n",
       "      <td>0.0</td>\n",
       "      <td>0.0</td>\n",
       "      <td>0.0</td>\n",
       "      <td>...</td>\n",
       "      <td>0.0</td>\n",
       "      <td>0.00000</td>\n",
       "      <td>0.0</td>\n",
       "      <td>0.0</td>\n",
       "      <td>0.75</td>\n",
       "      <td>0.000000</td>\n",
       "      <td>0.75</td>\n",
       "      <td>0.000000</td>\n",
       "      <td>1.00</td>\n",
       "      <td>0.0</td>\n",
       "    </tr>\n",
       "    <tr>\n",
       "      <th>95</th>\n",
       "      <td>eureka/arcata</td>\n",
       "      <td>0.0</td>\n",
       "      <td>0.00</td>\n",
       "      <td>0.0</td>\n",
       "      <td>0.0</td>\n",
       "      <td>0.000000</td>\n",
       "      <td>0.0</td>\n",
       "      <td>0.0</td>\n",
       "      <td>0.0</td>\n",
       "      <td>0.0</td>\n",
       "      <td>...</td>\n",
       "      <td>0.0</td>\n",
       "      <td>0.57735</td>\n",
       "      <td>0.0</td>\n",
       "      <td>0.0</td>\n",
       "      <td>0.00</td>\n",
       "      <td>0.000000</td>\n",
       "      <td>0.00</td>\n",
       "      <td>0.000000</td>\n",
       "      <td>0.00</td>\n",
       "      <td>1.0</td>\n",
       "    </tr>\n",
       "  </tbody>\n",
       "</table>\n",
       "<p>5 rows × 97 columns</p>\n",
       "</div>"
      ],
      "text/plain": [
       "city1            city1  albuquerque  nantucket  coloradosprings  \\\n",
       "91          bellingham          0.0       0.00              0.0   \n",
       "92              bangor          0.0       0.75              0.0   \n",
       "93            richmond          0.0       0.00              0.0   \n",
       "94     charlottesville          0.0       0.75              0.0   \n",
       "95       eureka/arcata          0.0       0.00              0.0   \n",
       "\n",
       "city1  dallas/fortworth  pittsburgh  huntsville  albany  denver  atlanta  ...  \\\n",
       "91                  0.0    0.666667         0.0     0.0     0.0      0.0  ...   \n",
       "92                  0.0    0.000000         0.0     0.0     0.0      0.0  ...   \n",
       "93                  0.0    0.666667         0.0     0.0     0.0      0.0  ...   \n",
       "94                  0.0    0.000000         0.0     0.0     0.0      0.0  ...   \n",
       "95                  0.0    0.000000         0.0     0.0     0.0      0.0  ...   \n",
       "\n",
       "city1  dayton  everett  tulsa  spokane  hiltonhead  bellingham  bangor  \\\n",
       "91        0.0  0.00000    0.0      0.0        0.00    1.000000    0.00   \n",
       "92        0.0  0.00000    0.0      0.0        0.75    0.000000    1.00   \n",
       "93        0.0  0.00000    0.0      0.0        0.00    0.666667    0.00   \n",
       "94        0.0  0.00000    0.0      0.0        0.75    0.000000    0.75   \n",
       "95        0.0  0.57735    0.0      0.0        0.00    0.000000    0.00   \n",
       "\n",
       "city1  richmond  charlottesville  eureka/arcata  \n",
       "91     0.666667             0.00            0.0  \n",
       "92     0.000000             0.75            0.0  \n",
       "93     1.000000             0.00            0.0  \n",
       "94     0.000000             1.00            0.0  \n",
       "95     0.000000             0.00            1.0  \n",
       "\n",
       "[5 rows x 97 columns]"
      ]
     },
     "execution_count": 23,
     "metadata": {},
     "output_type": "execute_result"
    }
   ],
   "source": [
    "df.tail()"
   ]
  },
  {
   "cell_type": "code",
   "execution_count": 24,
   "id": "2c853a12-9f63-4486-9744-2776a3acf35c",
   "metadata": {
    "tags": []
   },
   "outputs": [
    {
     "data": {
      "text/plain": [
       "city1\n",
       "city1                object\n",
       "albuquerque         float64\n",
       "nantucket           float64\n",
       "coloradosprings     float64\n",
       "dallas/fortworth    float64\n",
       "                     ...   \n",
       "bellingham          float64\n",
       "bangor              float64\n",
       "richmond            float64\n",
       "charlottesville     float64\n",
       "eureka/arcata       float64\n",
       "Length: 97, dtype: object"
      ]
     },
     "execution_count": 24,
     "metadata": {},
     "output_type": "execute_result"
    }
   ],
   "source": [
    "df.dtypes"
   ]
  },
  {
   "cell_type": "code",
   "execution_count": 25,
   "id": "3a712379-7e81-444d-a71f-35dedc9e891c",
   "metadata": {
    "tags": []
   },
   "outputs": [],
   "source": [
    "input_city = 'richmond'\n",
    "recommendations = pd.DataFrame(df.nlargest(5,input_city)['city1'])"
   ]
  },
  {
   "cell_type": "code",
   "execution_count": 26,
   "id": "77860acc-a9a9-4c34-9d29-810adee93873",
   "metadata": {
    "tags": []
   },
   "outputs": [
    {
     "name": "stdout",
     "output_type": "stream",
     "text": [
      "           city1\n",
      "93      richmond\n",
      "4     pittsburgh\n",
      "37        eugene\n",
      "71  philadelphia\n",
      "72   palmsprings\n"
     ]
    }
   ],
   "source": [
    "print(recommendations)"
   ]
  },
  {
   "cell_type": "code",
   "execution_count": 27,
   "id": "d45ee023-cfb0-4c09-a0a7-7462c4bc3a83",
   "metadata": {
    "tags": []
   },
   "outputs": [
    {
     "data": {
      "text/plain": [
       "array(['albuquerque', 'nantucket', 'coloradosprings', 'dallas/fortworth',\n",
       "       'pittsburgh', 'huntsville', 'albany', 'denver', 'atlanta',\n",
       "       'austin', 'asheville', 'tucson', 'phoenix', 'hartford', 'seattle',\n",
       "       'birmingham', 'elpaso', 'cleveland', 'nashville', 'boise',\n",
       "       'boston', 'burlington', 'buffalo', 'bozeman', 'chicago',\n",
       "       'charleston', 'charlotte', 'columbus', 'st.louis', 'myrtlebeach',\n",
       "       'jacksonville', 'detroit', 'desmoines', 'houston', 'orlando',\n",
       "       'panamacity', 'valparaiso', 'eugene', 'keywest', 'kalispell',\n",
       "       'minneapolis/st.paul', 'newyorkcity', 'fortmyers',\n",
       "       'greenville/spartanburg', 'grandrapids', 'greensboro/highpoint',\n",
       "       'lasvegas', 'indianapolis', 'jackson', 'jackson/vicksburg',\n",
       "       'sanfrancisco', 'miami', 'losangeles', 'littlerock', 'louisville',\n",
       "       'cincinnati', 'sacramento', 'tampa', 'kansascity', 'sanantonio',\n",
       "       'memphis', 'omaha', 'milwaukee', 'madison', 'neworleans',\n",
       "       \"martha'svineyard\", 'sandiego', 'norfolk', 'pensacola',\n",
       "       'oklahomacity', 'portland', 'philadelphia', 'palmsprings',\n",
       "       'bend/redmond', 'raleigh/durham', 'reno', 'rochester',\n",
       "       'saltlakecity', 'savannah', 'sarasota/bradenton', 'knoxville',\n",
       "       'columbia', 'fayetteville', 'syracuse', 'aspen', 'eagle', 'dayton',\n",
       "       'everett', 'tulsa', 'spokane', 'hiltonhead', 'bellingham',\n",
       "       'bangor', 'richmond', 'charlottesville', 'eureka/arcata'],\n",
       "      dtype=object)"
      ]
     },
     "execution_count": 27,
     "metadata": {},
     "output_type": "execute_result"
    }
   ],
   "source": [
    "df['city1'].unique()"
   ]
  },
  {
   "cell_type": "code",
   "execution_count": null,
   "id": "f7fd6f89-9ca1-410e-a3d0-18d5da169896",
   "metadata": {},
   "outputs": [],
   "source": []
  }
 ],
 "metadata": {
  "kernelspec": {
   "display_name": "Python 3 (ipykernel)",
   "language": "python",
   "name": "python3"
  },
  "language_info": {
   "codemirror_mode": {
    "name": "ipython",
    "version": 3
   },
   "file_extension": ".py",
   "mimetype": "text/x-python",
   "name": "python",
   "nbconvert_exporter": "python",
   "pygments_lexer": "ipython3",
   "version": "3.11.7"
  }
 },
 "nbformat": 4,
 "nbformat_minor": 5
}
