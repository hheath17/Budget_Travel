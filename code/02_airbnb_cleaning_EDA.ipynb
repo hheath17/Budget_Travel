{
 "cells": [
  {
   "cell_type": "code",
   "execution_count": 3,
   "id": "c6630730-a795-4975-89db-650ba1c81d16",
   "metadata": {
    "tags": []
   },
   "outputs": [],
   "source": [
    "import pandas as pd\n",
    "import numpy as np\n",
    "\n",
    "import re"
   ]
  },
  {
   "cell_type": "code",
   "execution_count": 4,
   "id": "c2aeff78-0f63-45cd-95bf-f1fd031a7794",
   "metadata": {
    "tags": []
   },
   "outputs": [],
   "source": [
    "bnb = pd.read_csv('../data/air-bnb-listings-to-use.csv')"
   ]
  },
  {
   "cell_type": "code",
   "execution_count": 5,
   "id": "c223784b-1e6c-4388-9015-ee44bc206088",
   "metadata": {},
   "outputs": [],
   "source": [
    "pd.set_option('display.max_rows', 1000)"
   ]
  },
  {
   "cell_type": "code",
   "execution_count": 6,
   "id": "44d35d0d-81c5-4863-9b75-ddf3f96e88e9",
   "metadata": {
    "tags": []
   },
   "outputs": [
    {
     "data": {
      "text/html": [
       "<div>\n",
       "<style scoped>\n",
       "    .dataframe tbody tr th:only-of-type {\n",
       "        vertical-align: middle;\n",
       "    }\n",
       "\n",
       "    .dataframe tbody tr th {\n",
       "        vertical-align: top;\n",
       "    }\n",
       "\n",
       "    .dataframe thead th {\n",
       "        text-align: right;\n",
       "    }\n",
       "</style>\n",
       "<table border=\"1\" class=\"dataframe\">\n",
       "  <thead>\n",
       "    <tr style=\"text-align: right;\">\n",
       "      <th></th>\n",
       "      <th>Room ID</th>\n",
       "      <th>Name</th>\n",
       "      <th>Host ID</th>\n",
       "      <th>Neighbourhood</th>\n",
       "      <th>Room type</th>\n",
       "      <th>Room Price</th>\n",
       "      <th>Minimum nights</th>\n",
       "      <th>Number of reviews</th>\n",
       "      <th>Date last review</th>\n",
       "      <th>Number of reviews per month</th>\n",
       "      <th>Rooms rent by the host</th>\n",
       "      <th>Availibility</th>\n",
       "      <th>Updated Date</th>\n",
       "      <th>City</th>\n",
       "      <th>Country</th>\n",
       "      <th>Coordinates</th>\n",
       "      <th>Location</th>\n",
       "    </tr>\n",
       "  </thead>\n",
       "  <tbody>\n",
       "    <tr>\n",
       "      <th>0</th>\n",
       "      <td>575758</td>\n",
       "      <td>a REAL warehouse LOFT</td>\n",
       "      <td>2832150</td>\n",
       "      <td>Five Points</td>\n",
       "      <td>Entire home/apt</td>\n",
       "      <td>200</td>\n",
       "      <td>180</td>\n",
       "      <td>38</td>\n",
       "      <td>2017-01-09</td>\n",
       "      <td>0.51</td>\n",
       "      <td>1</td>\n",
       "      <td>0</td>\n",
       "      <td>2020-06-28</td>\n",
       "      <td>Denver</td>\n",
       "      <td>United states</td>\n",
       "      <td>39.767916331935616, -104.97976015587257</td>\n",
       "      <td>United states, Denver, Five Points</td>\n",
       "    </tr>\n",
       "    <tr>\n",
       "      <th>1</th>\n",
       "      <td>1041934</td>\n",
       "      <td>Private apt in Berkeley, MTN Views!</td>\n",
       "      <td>5811115</td>\n",
       "      <td>Berkeley</td>\n",
       "      <td>Entire home/apt</td>\n",
       "      <td>215</td>\n",
       "      <td>30</td>\n",
       "      <td>27</td>\n",
       "      <td>2019-12-02</td>\n",
       "      <td>0.32</td>\n",
       "      <td>7</td>\n",
       "      <td>247</td>\n",
       "      <td>2020-06-28</td>\n",
       "      <td>Denver</td>\n",
       "      <td>United states</td>\n",
       "      <td>39.78122240894239, -105.03904720467456</td>\n",
       "      <td>United states, Denver, Berkeley</td>\n",
       "    </tr>\n",
       "    <tr>\n",
       "      <th>2</th>\n",
       "      <td>1311993</td>\n",
       "      <td>Downtown Apt - Clean &amp; Convenient! Brooks Towe...</td>\n",
       "      <td>6658113</td>\n",
       "      <td>CBD</td>\n",
       "      <td>Entire home/apt</td>\n",
       "      <td>90</td>\n",
       "      <td>30</td>\n",
       "      <td>7</td>\n",
       "      <td>2017-06-03</td>\n",
       "      <td>0.09</td>\n",
       "      <td>22</td>\n",
       "      <td>317</td>\n",
       "      <td>2020-06-28</td>\n",
       "      <td>Denver</td>\n",
       "      <td>United states</td>\n",
       "      <td>39.74651081035565, -104.99583469460369</td>\n",
       "      <td>United states, Denver, CBD</td>\n",
       "    </tr>\n",
       "    <tr>\n",
       "      <th>3</th>\n",
       "      <td>1557739</td>\n",
       "      <td>Full bed with shared bathroom</td>\n",
       "      <td>8289288</td>\n",
       "      <td>Cole</td>\n",
       "      <td>Private room</td>\n",
       "      <td>60</td>\n",
       "      <td>30</td>\n",
       "      <td>125</td>\n",
       "      <td>2019-06-15</td>\n",
       "      <td>1.66</td>\n",
       "      <td>7</td>\n",
       "      <td>0</td>\n",
       "      <td>2020-06-28</td>\n",
       "      <td>Denver</td>\n",
       "      <td>United states</td>\n",
       "      <td>39.76278786287324, -104.97123079202251</td>\n",
       "      <td>United states, Denver, Cole</td>\n",
       "    </tr>\n",
       "    <tr>\n",
       "      <th>4</th>\n",
       "      <td>3338717</td>\n",
       "      <td>Private basement apartment on park.</td>\n",
       "      <td>16853725</td>\n",
       "      <td>Rosedale</td>\n",
       "      <td>Entire home/apt</td>\n",
       "      <td>90</td>\n",
       "      <td>2</td>\n",
       "      <td>92</td>\n",
       "      <td>2020-06-13</td>\n",
       "      <td>1.26</td>\n",
       "      <td>1</td>\n",
       "      <td>306</td>\n",
       "      <td>2020-06-28</td>\n",
       "      <td>Denver</td>\n",
       "      <td>United states</td>\n",
       "      <td>39.675036382043245, -104.97842716027984</td>\n",
       "      <td>United states, Denver, Rosedale</td>\n",
       "    </tr>\n",
       "  </tbody>\n",
       "</table>\n",
       "</div>"
      ],
      "text/plain": [
       "   Room ID                                               Name   Host ID  \\\n",
       "0   575758                              a REAL warehouse LOFT   2832150   \n",
       "1  1041934                Private apt in Berkeley, MTN Views!   5811115   \n",
       "2  1311993  Downtown Apt - Clean & Convenient! Brooks Towe...   6658113   \n",
       "3  1557739                      Full bed with shared bathroom   8289288   \n",
       "4  3338717                Private basement apartment on park.  16853725   \n",
       "\n",
       "  Neighbourhood        Room type  Room Price  Minimum nights  \\\n",
       "0   Five Points  Entire home/apt         200             180   \n",
       "1      Berkeley  Entire home/apt         215              30   \n",
       "2           CBD  Entire home/apt          90              30   \n",
       "3          Cole     Private room          60              30   \n",
       "4      Rosedale  Entire home/apt          90               2   \n",
       "\n",
       "   Number of reviews Date last review  Number of reviews per month  \\\n",
       "0                 38       2017-01-09                         0.51   \n",
       "1                 27       2019-12-02                         0.32   \n",
       "2                  7       2017-06-03                         0.09   \n",
       "3                125       2019-06-15                         1.66   \n",
       "4                 92       2020-06-13                         1.26   \n",
       "\n",
       "   Rooms rent by the host  Availibility Updated Date    City        Country  \\\n",
       "0                       1             0   2020-06-28  Denver  United states   \n",
       "1                       7           247   2020-06-28  Denver  United states   \n",
       "2                      22           317   2020-06-28  Denver  United states   \n",
       "3                       7             0   2020-06-28  Denver  United states   \n",
       "4                       1           306   2020-06-28  Denver  United states   \n",
       "\n",
       "                               Coordinates                            Location  \n",
       "0  39.767916331935616, -104.97976015587257  United states, Denver, Five Points  \n",
       "1   39.78122240894239, -105.03904720467456     United states, Denver, Berkeley  \n",
       "2   39.74651081035565, -104.99583469460369          United states, Denver, CBD  \n",
       "3   39.76278786287324, -104.97123079202251         United states, Denver, Cole  \n",
       "4  39.675036382043245, -104.97842716027984     United states, Denver, Rosedale  "
      ]
     },
     "execution_count": 6,
     "metadata": {},
     "output_type": "execute_result"
    }
   ],
   "source": [
    "bnb.head()"
   ]
  },
  {
   "cell_type": "code",
   "execution_count": 7,
   "id": "627d5471-ea91-48a8-8b37-55e3eb7e39a7",
   "metadata": {
    "tags": []
   },
   "outputs": [
    {
     "data": {
      "text/plain": [
       "(240662, 17)"
      ]
     },
     "execution_count": 7,
     "metadata": {},
     "output_type": "execute_result"
    }
   ],
   "source": [
    "bnb.shape"
   ]
  },
  {
   "cell_type": "code",
   "execution_count": 8,
   "id": "316ebe1c-c537-4c43-ab94-d4a0a3344d83",
   "metadata": {
    "tags": []
   },
   "outputs": [
    {
     "data": {
      "text/plain": [
       "City\n",
       "New-york-city         48588\n",
       "Los-angeles           35757\n",
       "Hawaii                22917\n",
       "San-diego             12687\n",
       "Broward-county        10858\n",
       "Clark-county-nv       10568\n",
       "Austin                10321\n",
       "Washington-dc          8708\n",
       "Chicago                7628\n",
       "San-francisco          7526\n",
       "Santa-clara-county     7091\n",
       "New-orleans            6918\n",
       "Nashville              6848\n",
       "Seattle                6575\n",
       "Twin-cities-msa        6470\n",
       "Portland               4281\n",
       "Denver                 4200\n",
       "Rhode-island           3884\n",
       "Boston                 3440\n",
       "Oakland                3204\n",
       "San-mateo-county       2892\n",
       "Jersey-city            2488\n",
       "Asheville              2407\n",
       "Santa-cruz-county      1571\n",
       "Columbus               1409\n",
       "Cambridge              1029\n",
       "Salem-or                207\n",
       "Pacific-grove           190\n",
       "Name: count, dtype: int64"
      ]
     },
     "execution_count": 8,
     "metadata": {},
     "output_type": "execute_result"
    }
   ],
   "source": [
    "bnb['City'].value_counts()"
   ]
  },
  {
   "cell_type": "code",
   "execution_count": 9,
   "id": "4b7debf0-d4ef-4d52-be3e-70fa2335aa57",
   "metadata": {
    "tags": []
   },
   "outputs": [],
   "source": [
    "#changing Broward County to Ft Lauderdale\n",
    "bnb['City'] = bnb['City'].replace('Broward-county', 'Ft Lauderdale')"
   ]
  },
  {
   "cell_type": "code",
   "execution_count": 10,
   "id": "5d7b76df-c7ad-480f-b9ed-d5dc923d3f21",
   "metadata": {
    "tags": []
   },
   "outputs": [],
   "source": [
    "#changing Clark County to Las Vegas\n",
    "bnb['City'] = bnb['City'].replace('Clark-county-nv', 'Las Vegas')"
   ]
  },
  {
   "cell_type": "code",
   "execution_count": 11,
   "id": "811438c0-2160-443e-812c-d320fd7e45ab",
   "metadata": {
    "tags": []
   },
   "outputs": [],
   "source": [
    "#changing Twin-cities-msa to Twin Cities\n",
    "bnb['City'] = bnb['City'].replace('Twin-cities-msa', 'Twin Cities')"
   ]
  },
  {
   "cell_type": "code",
   "execution_count": 12,
   "id": "ecd4e53a-20b8-4f5c-b082-806ea34d1840",
   "metadata": {
    "tags": []
   },
   "outputs": [],
   "source": [
    "# mapping to create state column\n",
    "city_to_state = {\n",
    "    'Denver': 'CO',\n",
    "    'San-francisco': 'CA',\n",
    "    'New-york-city': 'NY',\n",
    "    'Los Angeles': 'CA',\n",
    "    'Chicago': 'IL',\n",
    "    'Miami': 'FL',\n",
    "    'Austin': 'TX',\n",
    "    'Seattle': 'WA',\n",
    "    'Boston': 'MA',\n",
    "    'Washington-dc': 'DC',\n",
    "    'Philadelphia': 'PA',\n",
    "    'Atlanta': 'GA',\n",
    "    'Dallas': 'TX',\n",
    "    'Houston': 'TX',\n",
    "    'Phoenix': 'AZ',\n",
    "    'Las Vegas': 'NV',\n",
    "    'Portland': 'OR',\n",
    "    'San-diego': 'CA',\n",
    "    'Orlando': 'FL',\n",
    "    'Columbus': 'OH',\n",
    "    'Hawaii': 'HI',\n",
    "    'Oakland': 'CA',\n",
    "    'Rhode Island': 'RI',\n",
    "    'Nashville': 'TN',\n",
    "    'Ft Lauderdale': 'FL',\n",
    "    'San-mateo-county': 'CA',\n",
    "    'Jersey-city': 'NJ',\n",
    "    'Asheville': 'NC',\n",
    "    'Santa-cruz-county': 'CA',\n",
    "    'Salem-or': 'OR',\n",
    "    'New-orleans': 'LA',\n",
    "    'Cambridge': 'MA',\n",
    "    'Rhode Island': 'RI',\n",
    "    'Twin Cities': 'MN'\n",
    "}"
   ]
  },
  {
   "cell_type": "code",
   "execution_count": 13,
   "id": "ac2b1c4e-4044-42de-911b-7ab8e386c3e5",
   "metadata": {
    "tags": []
   },
   "outputs": [],
   "source": [
    "bnb['State'] = bnb['City'].map(city_to_state)"
   ]
  },
  {
   "cell_type": "code",
   "execution_count": 14,
   "id": "e5ac0179-9b7a-4ce0-8dd8-b43e1a845547",
   "metadata": {
    "tags": []
   },
   "outputs": [
    {
     "data": {
      "text/html": [
       "<div>\n",
       "<style scoped>\n",
       "    .dataframe tbody tr th:only-of-type {\n",
       "        vertical-align: middle;\n",
       "    }\n",
       "\n",
       "    .dataframe tbody tr th {\n",
       "        vertical-align: top;\n",
       "    }\n",
       "\n",
       "    .dataframe thead th {\n",
       "        text-align: right;\n",
       "    }\n",
       "</style>\n",
       "<table border=\"1\" class=\"dataframe\">\n",
       "  <thead>\n",
       "    <tr style=\"text-align: right;\">\n",
       "      <th></th>\n",
       "      <th>Room ID</th>\n",
       "      <th>Name</th>\n",
       "      <th>Host ID</th>\n",
       "      <th>Neighbourhood</th>\n",
       "      <th>Room type</th>\n",
       "      <th>Room Price</th>\n",
       "      <th>Minimum nights</th>\n",
       "      <th>Number of reviews</th>\n",
       "      <th>Date last review</th>\n",
       "      <th>Number of reviews per month</th>\n",
       "      <th>Rooms rent by the host</th>\n",
       "      <th>Availibility</th>\n",
       "      <th>Updated Date</th>\n",
       "      <th>City</th>\n",
       "      <th>Country</th>\n",
       "      <th>Coordinates</th>\n",
       "      <th>Location</th>\n",
       "      <th>State</th>\n",
       "    </tr>\n",
       "  </thead>\n",
       "  <tbody>\n",
       "    <tr>\n",
       "      <th>0</th>\n",
       "      <td>575758</td>\n",
       "      <td>a REAL warehouse LOFT</td>\n",
       "      <td>2832150</td>\n",
       "      <td>Five Points</td>\n",
       "      <td>Entire home/apt</td>\n",
       "      <td>200</td>\n",
       "      <td>180</td>\n",
       "      <td>38</td>\n",
       "      <td>2017-01-09</td>\n",
       "      <td>0.51</td>\n",
       "      <td>1</td>\n",
       "      <td>0</td>\n",
       "      <td>2020-06-28</td>\n",
       "      <td>Denver</td>\n",
       "      <td>United states</td>\n",
       "      <td>39.767916331935616, -104.97976015587257</td>\n",
       "      <td>United states, Denver, Five Points</td>\n",
       "      <td>CO</td>\n",
       "    </tr>\n",
       "    <tr>\n",
       "      <th>1</th>\n",
       "      <td>1041934</td>\n",
       "      <td>Private apt in Berkeley, MTN Views!</td>\n",
       "      <td>5811115</td>\n",
       "      <td>Berkeley</td>\n",
       "      <td>Entire home/apt</td>\n",
       "      <td>215</td>\n",
       "      <td>30</td>\n",
       "      <td>27</td>\n",
       "      <td>2019-12-02</td>\n",
       "      <td>0.32</td>\n",
       "      <td>7</td>\n",
       "      <td>247</td>\n",
       "      <td>2020-06-28</td>\n",
       "      <td>Denver</td>\n",
       "      <td>United states</td>\n",
       "      <td>39.78122240894239, -105.03904720467456</td>\n",
       "      <td>United states, Denver, Berkeley</td>\n",
       "      <td>CO</td>\n",
       "    </tr>\n",
       "    <tr>\n",
       "      <th>2</th>\n",
       "      <td>1311993</td>\n",
       "      <td>Downtown Apt - Clean &amp; Convenient! Brooks Towe...</td>\n",
       "      <td>6658113</td>\n",
       "      <td>CBD</td>\n",
       "      <td>Entire home/apt</td>\n",
       "      <td>90</td>\n",
       "      <td>30</td>\n",
       "      <td>7</td>\n",
       "      <td>2017-06-03</td>\n",
       "      <td>0.09</td>\n",
       "      <td>22</td>\n",
       "      <td>317</td>\n",
       "      <td>2020-06-28</td>\n",
       "      <td>Denver</td>\n",
       "      <td>United states</td>\n",
       "      <td>39.74651081035565, -104.99583469460369</td>\n",
       "      <td>United states, Denver, CBD</td>\n",
       "      <td>CO</td>\n",
       "    </tr>\n",
       "    <tr>\n",
       "      <th>3</th>\n",
       "      <td>1557739</td>\n",
       "      <td>Full bed with shared bathroom</td>\n",
       "      <td>8289288</td>\n",
       "      <td>Cole</td>\n",
       "      <td>Private room</td>\n",
       "      <td>60</td>\n",
       "      <td>30</td>\n",
       "      <td>125</td>\n",
       "      <td>2019-06-15</td>\n",
       "      <td>1.66</td>\n",
       "      <td>7</td>\n",
       "      <td>0</td>\n",
       "      <td>2020-06-28</td>\n",
       "      <td>Denver</td>\n",
       "      <td>United states</td>\n",
       "      <td>39.76278786287324, -104.97123079202251</td>\n",
       "      <td>United states, Denver, Cole</td>\n",
       "      <td>CO</td>\n",
       "    </tr>\n",
       "    <tr>\n",
       "      <th>4</th>\n",
       "      <td>3338717</td>\n",
       "      <td>Private basement apartment on park.</td>\n",
       "      <td>16853725</td>\n",
       "      <td>Rosedale</td>\n",
       "      <td>Entire home/apt</td>\n",
       "      <td>90</td>\n",
       "      <td>2</td>\n",
       "      <td>92</td>\n",
       "      <td>2020-06-13</td>\n",
       "      <td>1.26</td>\n",
       "      <td>1</td>\n",
       "      <td>306</td>\n",
       "      <td>2020-06-28</td>\n",
       "      <td>Denver</td>\n",
       "      <td>United states</td>\n",
       "      <td>39.675036382043245, -104.97842716027984</td>\n",
       "      <td>United states, Denver, Rosedale</td>\n",
       "      <td>CO</td>\n",
       "    </tr>\n",
       "  </tbody>\n",
       "</table>\n",
       "</div>"
      ],
      "text/plain": [
       "   Room ID                                               Name   Host ID  \\\n",
       "0   575758                              a REAL warehouse LOFT   2832150   \n",
       "1  1041934                Private apt in Berkeley, MTN Views!   5811115   \n",
       "2  1311993  Downtown Apt - Clean & Convenient! Brooks Towe...   6658113   \n",
       "3  1557739                      Full bed with shared bathroom   8289288   \n",
       "4  3338717                Private basement apartment on park.  16853725   \n",
       "\n",
       "  Neighbourhood        Room type  Room Price  Minimum nights  \\\n",
       "0   Five Points  Entire home/apt         200             180   \n",
       "1      Berkeley  Entire home/apt         215              30   \n",
       "2           CBD  Entire home/apt          90              30   \n",
       "3          Cole     Private room          60              30   \n",
       "4      Rosedale  Entire home/apt          90               2   \n",
       "\n",
       "   Number of reviews Date last review  Number of reviews per month  \\\n",
       "0                 38       2017-01-09                         0.51   \n",
       "1                 27       2019-12-02                         0.32   \n",
       "2                  7       2017-06-03                         0.09   \n",
       "3                125       2019-06-15                         1.66   \n",
       "4                 92       2020-06-13                         1.26   \n",
       "\n",
       "   Rooms rent by the host  Availibility Updated Date    City        Country  \\\n",
       "0                       1             0   2020-06-28  Denver  United states   \n",
       "1                       7           247   2020-06-28  Denver  United states   \n",
       "2                      22           317   2020-06-28  Denver  United states   \n",
       "3                       7             0   2020-06-28  Denver  United states   \n",
       "4                       1           306   2020-06-28  Denver  United states   \n",
       "\n",
       "                               Coordinates  \\\n",
       "0  39.767916331935616, -104.97976015587257   \n",
       "1   39.78122240894239, -105.03904720467456   \n",
       "2   39.74651081035565, -104.99583469460369   \n",
       "3   39.76278786287324, -104.97123079202251   \n",
       "4  39.675036382043245, -104.97842716027984   \n",
       "\n",
       "                             Location State  \n",
       "0  United states, Denver, Five Points    CO  \n",
       "1     United states, Denver, Berkeley    CO  \n",
       "2          United states, Denver, CBD    CO  \n",
       "3         United states, Denver, Cole    CO  \n",
       "4     United states, Denver, Rosedale    CO  "
      ]
     },
     "execution_count": 14,
     "metadata": {},
     "output_type": "execute_result"
    }
   ],
   "source": [
    "bnb.head()"
   ]
  },
  {
   "cell_type": "code",
   "execution_count": 15,
   "id": "072d51cd-135e-4e54-84b0-06b86cf99801",
   "metadata": {
    "tags": []
   },
   "outputs": [
    {
     "data": {
      "text/plain": [
       "State\n",
       "NY    48588\n",
       "CA    27880\n",
       "HI    22917\n",
       "FL    10858\n",
       "NV    10568\n",
       "TX    10321\n",
       "DC     8708\n",
       "IL     7628\n",
       "LA     6918\n",
       "TN     6848\n",
       "WA     6575\n",
       "MN     6470\n",
       "OR     4488\n",
       "MA     4469\n",
       "CO     4200\n",
       "NJ     2488\n",
       "NC     2407\n",
       "OH     1409\n",
       "Name: count, dtype: int64"
      ]
     },
     "execution_count": 15,
     "metadata": {},
     "output_type": "execute_result"
    }
   ],
   "source": [
    "bnb['State'].value_counts()"
   ]
  },
  {
   "cell_type": "code",
   "execution_count": 16,
   "id": "f0918ef4-9542-4d16-811f-b544f3b6b9f6",
   "metadata": {
    "tags": []
   },
   "outputs": [
    {
     "data": {
      "text/plain": [
       "City\n",
       "New-york-city         48588\n",
       "Los-angeles           35757\n",
       "Hawaii                22917\n",
       "San-diego             12687\n",
       "Ft Lauderdale         10858\n",
       "Las Vegas             10568\n",
       "Austin                10321\n",
       "Washington-dc          8708\n",
       "Chicago                7628\n",
       "San-francisco          7526\n",
       "Santa-clara-county     7091\n",
       "New-orleans            6918\n",
       "Nashville              6848\n",
       "Seattle                6575\n",
       "Twin Cities            6470\n",
       "Portland               4281\n",
       "Denver                 4200\n",
       "Rhode-island           3884\n",
       "Boston                 3440\n",
       "Oakland                3204\n",
       "San-mateo-county       2892\n",
       "Jersey-city            2488\n",
       "Asheville              2407\n",
       "Santa-cruz-county      1571\n",
       "Columbus               1409\n",
       "Cambridge              1029\n",
       "Salem-or                207\n",
       "Pacific-grove           190\n",
       "Name: count, dtype: int64"
      ]
     },
     "execution_count": 16,
     "metadata": {},
     "output_type": "execute_result"
    }
   ],
   "source": [
    "bnb['City'].value_counts()"
   ]
  },
  {
   "cell_type": "code",
   "execution_count": 17,
   "id": "cdb3ef27-88b5-4679-9bec-63deeb3fd290",
   "metadata": {
    "tags": []
   },
   "outputs": [],
   "source": [
    "def camel_to_snake(col):\n",
    "    return re.sub(' ', '_', col).lower()"
   ]
  },
  {
   "cell_type": "code",
   "execution_count": 18,
   "id": "e5c07918-2e71-4f74-bea7-04c1c59d92e8",
   "metadata": {
    "tags": []
   },
   "outputs": [],
   "source": [
    "bnb.columns = [camel_to_snake(col) for col in bnb.columns]"
   ]
  },
  {
   "cell_type": "code",
   "execution_count": 19,
   "id": "015599b4-970e-4b78-8c81-58147066fd99",
   "metadata": {
    "tags": []
   },
   "outputs": [
    {
     "data": {
      "text/html": [
       "<div>\n",
       "<style scoped>\n",
       "    .dataframe tbody tr th:only-of-type {\n",
       "        vertical-align: middle;\n",
       "    }\n",
       "\n",
       "    .dataframe tbody tr th {\n",
       "        vertical-align: top;\n",
       "    }\n",
       "\n",
       "    .dataframe thead th {\n",
       "        text-align: right;\n",
       "    }\n",
       "</style>\n",
       "<table border=\"1\" class=\"dataframe\">\n",
       "  <thead>\n",
       "    <tr style=\"text-align: right;\">\n",
       "      <th></th>\n",
       "      <th>room_id</th>\n",
       "      <th>name</th>\n",
       "      <th>host_id</th>\n",
       "      <th>neighbourhood</th>\n",
       "      <th>room_type</th>\n",
       "      <th>room_price</th>\n",
       "      <th>minimum_nights</th>\n",
       "      <th>number_of_reviews</th>\n",
       "      <th>date_last_review</th>\n",
       "      <th>number_of_reviews_per_month</th>\n",
       "      <th>rooms_rent_by_the_host</th>\n",
       "      <th>availibility</th>\n",
       "      <th>updated_date</th>\n",
       "      <th>city</th>\n",
       "      <th>country</th>\n",
       "      <th>coordinates</th>\n",
       "      <th>location</th>\n",
       "      <th>state</th>\n",
       "    </tr>\n",
       "  </thead>\n",
       "  <tbody>\n",
       "    <tr>\n",
       "      <th>0</th>\n",
       "      <td>575758</td>\n",
       "      <td>a REAL warehouse LOFT</td>\n",
       "      <td>2832150</td>\n",
       "      <td>Five Points</td>\n",
       "      <td>Entire home/apt</td>\n",
       "      <td>200</td>\n",
       "      <td>180</td>\n",
       "      <td>38</td>\n",
       "      <td>2017-01-09</td>\n",
       "      <td>0.51</td>\n",
       "      <td>1</td>\n",
       "      <td>0</td>\n",
       "      <td>2020-06-28</td>\n",
       "      <td>Denver</td>\n",
       "      <td>United states</td>\n",
       "      <td>39.767916331935616, -104.97976015587257</td>\n",
       "      <td>United states, Denver, Five Points</td>\n",
       "      <td>CO</td>\n",
       "    </tr>\n",
       "    <tr>\n",
       "      <th>1</th>\n",
       "      <td>1041934</td>\n",
       "      <td>Private apt in Berkeley, MTN Views!</td>\n",
       "      <td>5811115</td>\n",
       "      <td>Berkeley</td>\n",
       "      <td>Entire home/apt</td>\n",
       "      <td>215</td>\n",
       "      <td>30</td>\n",
       "      <td>27</td>\n",
       "      <td>2019-12-02</td>\n",
       "      <td>0.32</td>\n",
       "      <td>7</td>\n",
       "      <td>247</td>\n",
       "      <td>2020-06-28</td>\n",
       "      <td>Denver</td>\n",
       "      <td>United states</td>\n",
       "      <td>39.78122240894239, -105.03904720467456</td>\n",
       "      <td>United states, Denver, Berkeley</td>\n",
       "      <td>CO</td>\n",
       "    </tr>\n",
       "    <tr>\n",
       "      <th>2</th>\n",
       "      <td>1311993</td>\n",
       "      <td>Downtown Apt - Clean &amp; Convenient! Brooks Towe...</td>\n",
       "      <td>6658113</td>\n",
       "      <td>CBD</td>\n",
       "      <td>Entire home/apt</td>\n",
       "      <td>90</td>\n",
       "      <td>30</td>\n",
       "      <td>7</td>\n",
       "      <td>2017-06-03</td>\n",
       "      <td>0.09</td>\n",
       "      <td>22</td>\n",
       "      <td>317</td>\n",
       "      <td>2020-06-28</td>\n",
       "      <td>Denver</td>\n",
       "      <td>United states</td>\n",
       "      <td>39.74651081035565, -104.99583469460369</td>\n",
       "      <td>United states, Denver, CBD</td>\n",
       "      <td>CO</td>\n",
       "    </tr>\n",
       "    <tr>\n",
       "      <th>3</th>\n",
       "      <td>1557739</td>\n",
       "      <td>Full bed with shared bathroom</td>\n",
       "      <td>8289288</td>\n",
       "      <td>Cole</td>\n",
       "      <td>Private room</td>\n",
       "      <td>60</td>\n",
       "      <td>30</td>\n",
       "      <td>125</td>\n",
       "      <td>2019-06-15</td>\n",
       "      <td>1.66</td>\n",
       "      <td>7</td>\n",
       "      <td>0</td>\n",
       "      <td>2020-06-28</td>\n",
       "      <td>Denver</td>\n",
       "      <td>United states</td>\n",
       "      <td>39.76278786287324, -104.97123079202251</td>\n",
       "      <td>United states, Denver, Cole</td>\n",
       "      <td>CO</td>\n",
       "    </tr>\n",
       "    <tr>\n",
       "      <th>4</th>\n",
       "      <td>3338717</td>\n",
       "      <td>Private basement apartment on park.</td>\n",
       "      <td>16853725</td>\n",
       "      <td>Rosedale</td>\n",
       "      <td>Entire home/apt</td>\n",
       "      <td>90</td>\n",
       "      <td>2</td>\n",
       "      <td>92</td>\n",
       "      <td>2020-06-13</td>\n",
       "      <td>1.26</td>\n",
       "      <td>1</td>\n",
       "      <td>306</td>\n",
       "      <td>2020-06-28</td>\n",
       "      <td>Denver</td>\n",
       "      <td>United states</td>\n",
       "      <td>39.675036382043245, -104.97842716027984</td>\n",
       "      <td>United states, Denver, Rosedale</td>\n",
       "      <td>CO</td>\n",
       "    </tr>\n",
       "  </tbody>\n",
       "</table>\n",
       "</div>"
      ],
      "text/plain": [
       "   room_id                                               name   host_id  \\\n",
       "0   575758                              a REAL warehouse LOFT   2832150   \n",
       "1  1041934                Private apt in Berkeley, MTN Views!   5811115   \n",
       "2  1311993  Downtown Apt - Clean & Convenient! Brooks Towe...   6658113   \n",
       "3  1557739                      Full bed with shared bathroom   8289288   \n",
       "4  3338717                Private basement apartment on park.  16853725   \n",
       "\n",
       "  neighbourhood        room_type  room_price  minimum_nights  \\\n",
       "0   Five Points  Entire home/apt         200             180   \n",
       "1      Berkeley  Entire home/apt         215              30   \n",
       "2           CBD  Entire home/apt          90              30   \n",
       "3          Cole     Private room          60              30   \n",
       "4      Rosedale  Entire home/apt          90               2   \n",
       "\n",
       "   number_of_reviews date_last_review  number_of_reviews_per_month  \\\n",
       "0                 38       2017-01-09                         0.51   \n",
       "1                 27       2019-12-02                         0.32   \n",
       "2                  7       2017-06-03                         0.09   \n",
       "3                125       2019-06-15                         1.66   \n",
       "4                 92       2020-06-13                         1.26   \n",
       "\n",
       "   rooms_rent_by_the_host  availibility updated_date    city        country  \\\n",
       "0                       1             0   2020-06-28  Denver  United states   \n",
       "1                       7           247   2020-06-28  Denver  United states   \n",
       "2                      22           317   2020-06-28  Denver  United states   \n",
       "3                       7             0   2020-06-28  Denver  United states   \n",
       "4                       1           306   2020-06-28  Denver  United states   \n",
       "\n",
       "                               coordinates  \\\n",
       "0  39.767916331935616, -104.97976015587257   \n",
       "1   39.78122240894239, -105.03904720467456   \n",
       "2   39.74651081035565, -104.99583469460369   \n",
       "3   39.76278786287324, -104.97123079202251   \n",
       "4  39.675036382043245, -104.97842716027984   \n",
       "\n",
       "                             location state  \n",
       "0  United states, Denver, Five Points    CO  \n",
       "1     United states, Denver, Berkeley    CO  \n",
       "2          United states, Denver, CBD    CO  \n",
       "3         United states, Denver, Cole    CO  \n",
       "4     United states, Denver, Rosedale    CO  "
      ]
     },
     "execution_count": 19,
     "metadata": {},
     "output_type": "execute_result"
    }
   ],
   "source": [
    "bnb.head()"
   ]
  },
  {
   "cell_type": "code",
   "execution_count": 20,
   "id": "0855390f-adc9-4a32-a553-9b98a12eb88b",
   "metadata": {
    "tags": []
   },
   "outputs": [
    {
     "data": {
      "text/plain": [
       "Index(['room_id', 'name', 'host_id', 'neighbourhood', 'room_type',\n",
       "       'room_price', 'minimum_nights', 'number_of_reviews', 'date_last_review',\n",
       "       'number_of_reviews_per_month', 'rooms_rent_by_the_host', 'availibility',\n",
       "       'updated_date', 'city', 'country', 'coordinates', 'location', 'state'],\n",
       "      dtype='object')"
      ]
     },
     "execution_count": 20,
     "metadata": {},
     "output_type": "execute_result"
    }
   ],
   "source": [
    "bnb.columns"
   ]
  },
  {
   "cell_type": "code",
   "execution_count": 21,
   "id": "46037ea3-e0d7-4813-a725-8ad6aece1025",
   "metadata": {},
   "outputs": [],
   "source": [
    "def camel_to_snake(city):\n",
    "    return re.sub('-', ' ', city).title()"
   ]
  },
  {
   "cell_type": "code",
   "execution_count": 22,
   "id": "4be70e4f-14ec-46bd-a0bb-3ba685d4d578",
   "metadata": {
    "tags": []
   },
   "outputs": [],
   "source": [
    "bnb['city'] = [camel_to_snake(city) for city in bnb['city']]"
   ]
  },
  {
   "cell_type": "code",
   "execution_count": 23,
   "id": "fbb1bebe-dd06-4bd9-85f2-b032e36d7fe4",
   "metadata": {
    "tags": []
   },
   "outputs": [
    {
     "data": {
      "text/plain": [
       "city\n",
       "New York City         48588\n",
       "Los Angeles           35757\n",
       "Hawaii                22917\n",
       "San Diego             12687\n",
       "Ft Lauderdale         10858\n",
       "Las Vegas             10568\n",
       "Austin                10321\n",
       "Washington Dc          8708\n",
       "Chicago                7628\n",
       "San Francisco          7526\n",
       "Santa Clara County     7091\n",
       "New Orleans            6918\n",
       "Nashville              6848\n",
       "Seattle                6575\n",
       "Twin Cities            6470\n",
       "Portland               4281\n",
       "Denver                 4200\n",
       "Rhode Island           3884\n",
       "Boston                 3440\n",
       "Oakland                3204\n",
       "San Mateo County       2892\n",
       "Jersey City            2488\n",
       "Asheville              2407\n",
       "Santa Cruz County      1571\n",
       "Columbus               1409\n",
       "Cambridge              1029\n",
       "Salem Or                207\n",
       "Pacific Grove           190\n",
       "Name: count, dtype: int64"
      ]
     },
     "execution_count": 23,
     "metadata": {},
     "output_type": "execute_result"
    }
   ],
   "source": [
    "bnb['city'].value_counts()"
   ]
  },
  {
   "cell_type": "code",
   "execution_count": 24,
   "id": "28cc901c-1757-42c3-bc0b-8626a58650ed",
   "metadata": {
    "tags": []
   },
   "outputs": [
    {
     "data": {
      "text/plain": [
       "Index(['room_id', 'name', 'host_id', 'neighbourhood', 'room_type',\n",
       "       'room_price', 'minimum_nights', 'number_of_reviews', 'date_last_review',\n",
       "       'number_of_reviews_per_month', 'rooms_rent_by_the_host', 'availibility',\n",
       "       'updated_date', 'city', 'country', 'coordinates', 'location', 'state'],\n",
       "      dtype='object')"
      ]
     },
     "execution_count": 24,
     "metadata": {},
     "output_type": "execute_result"
    }
   ],
   "source": [
    "bnb.columns"
   ]
  },
  {
   "cell_type": "code",
   "execution_count": 25,
   "id": "1ec0488a-9ffd-4eb3-98d4-5a2af86a4871",
   "metadata": {
    "tags": []
   },
   "outputs": [],
   "source": [
    "#drop unnecessary columns\n",
    "bnb.drop(columns=['name', 'host_id', 'number_of_reviews', 'date_last_review',\n",
    "       'number_of_reviews_per_month', 'rooms_rent_by_the_host', 'availibility', 'country', 'coordinates', 'location'], inplace=True)"
   ]
  },
  {
   "cell_type": "code",
   "execution_count": 26,
   "id": "91b1b8fd-845d-4877-ae77-7a66f67419b5",
   "metadata": {
    "tags": []
   },
   "outputs": [
    {
     "data": {
      "text/html": [
       "<div>\n",
       "<style scoped>\n",
       "    .dataframe tbody tr th:only-of-type {\n",
       "        vertical-align: middle;\n",
       "    }\n",
       "\n",
       "    .dataframe tbody tr th {\n",
       "        vertical-align: top;\n",
       "    }\n",
       "\n",
       "    .dataframe thead th {\n",
       "        text-align: right;\n",
       "    }\n",
       "</style>\n",
       "<table border=\"1\" class=\"dataframe\">\n",
       "  <thead>\n",
       "    <tr style=\"text-align: right;\">\n",
       "      <th></th>\n",
       "      <th>room_id</th>\n",
       "      <th>neighbourhood</th>\n",
       "      <th>room_type</th>\n",
       "      <th>room_price</th>\n",
       "      <th>minimum_nights</th>\n",
       "      <th>updated_date</th>\n",
       "      <th>city</th>\n",
       "      <th>state</th>\n",
       "    </tr>\n",
       "  </thead>\n",
       "  <tbody>\n",
       "    <tr>\n",
       "      <th>0</th>\n",
       "      <td>575758</td>\n",
       "      <td>Five Points</td>\n",
       "      <td>Entire home/apt</td>\n",
       "      <td>200</td>\n",
       "      <td>180</td>\n",
       "      <td>2020-06-28</td>\n",
       "      <td>Denver</td>\n",
       "      <td>CO</td>\n",
       "    </tr>\n",
       "    <tr>\n",
       "      <th>1</th>\n",
       "      <td>1041934</td>\n",
       "      <td>Berkeley</td>\n",
       "      <td>Entire home/apt</td>\n",
       "      <td>215</td>\n",
       "      <td>30</td>\n",
       "      <td>2020-06-28</td>\n",
       "      <td>Denver</td>\n",
       "      <td>CO</td>\n",
       "    </tr>\n",
       "    <tr>\n",
       "      <th>2</th>\n",
       "      <td>1311993</td>\n",
       "      <td>CBD</td>\n",
       "      <td>Entire home/apt</td>\n",
       "      <td>90</td>\n",
       "      <td>30</td>\n",
       "      <td>2020-06-28</td>\n",
       "      <td>Denver</td>\n",
       "      <td>CO</td>\n",
       "    </tr>\n",
       "    <tr>\n",
       "      <th>3</th>\n",
       "      <td>1557739</td>\n",
       "      <td>Cole</td>\n",
       "      <td>Private room</td>\n",
       "      <td>60</td>\n",
       "      <td>30</td>\n",
       "      <td>2020-06-28</td>\n",
       "      <td>Denver</td>\n",
       "      <td>CO</td>\n",
       "    </tr>\n",
       "    <tr>\n",
       "      <th>4</th>\n",
       "      <td>3338717</td>\n",
       "      <td>Rosedale</td>\n",
       "      <td>Entire home/apt</td>\n",
       "      <td>90</td>\n",
       "      <td>2</td>\n",
       "      <td>2020-06-28</td>\n",
       "      <td>Denver</td>\n",
       "      <td>CO</td>\n",
       "    </tr>\n",
       "  </tbody>\n",
       "</table>\n",
       "</div>"
      ],
      "text/plain": [
       "   room_id neighbourhood        room_type  room_price  minimum_nights  \\\n",
       "0   575758   Five Points  Entire home/apt         200             180   \n",
       "1  1041934      Berkeley  Entire home/apt         215              30   \n",
       "2  1311993           CBD  Entire home/apt          90              30   \n",
       "3  1557739          Cole     Private room          60              30   \n",
       "4  3338717      Rosedale  Entire home/apt          90               2   \n",
       "\n",
       "  updated_date    city state  \n",
       "0   2020-06-28  Denver    CO  \n",
       "1   2020-06-28  Denver    CO  \n",
       "2   2020-06-28  Denver    CO  \n",
       "3   2020-06-28  Denver    CO  \n",
       "4   2020-06-28  Denver    CO  "
      ]
     },
     "execution_count": 26,
     "metadata": {},
     "output_type": "execute_result"
    }
   ],
   "source": [
    "bnb.head()"
   ]
  },
  {
   "cell_type": "code",
   "execution_count": 27,
   "id": "b89f2487-3880-4620-8cf6-ad00de59f514",
   "metadata": {
    "tags": []
   },
   "outputs": [
    {
     "data": {
      "text/plain": [
       "room_id               0\n",
       "neighbourhood         0\n",
       "room_type             0\n",
       "room_price            0\n",
       "minimum_nights        0\n",
       "updated_date          0\n",
       "city                  0\n",
       "state             46922\n",
       "dtype: int64"
      ]
     },
     "execution_count": 27,
     "metadata": {},
     "output_type": "execute_result"
    }
   ],
   "source": [
    "bnb.isnull().sum()"
   ]
  },
  {
   "cell_type": "code",
   "execution_count": 28,
   "id": "6e3da401-bfff-450d-875a-cec58a97a487",
   "metadata": {
    "tags": []
   },
   "outputs": [
    {
     "data": {
      "text/plain": [
       "(240662, 8)"
      ]
     },
     "execution_count": 28,
     "metadata": {},
     "output_type": "execute_result"
    }
   ],
   "source": [
    "bnb.shape"
   ]
  },
  {
   "cell_type": "code",
   "execution_count": 29,
   "id": "11f2b4a2-4c8d-40a7-809e-aee6e2ec7f89",
   "metadata": {
    "tags": []
   },
   "outputs": [],
   "source": [
    "# dropping null State\n",
    "bnb.dropna(subset=['state'], inplace=True)"
   ]
  },
  {
   "cell_type": "code",
   "execution_count": 30,
   "id": "2569a439-f82a-4571-a127-b971e68f7a10",
   "metadata": {
    "tags": []
   },
   "outputs": [
    {
     "data": {
      "text/plain": [
       "(193740, 8)"
      ]
     },
     "execution_count": 30,
     "metadata": {},
     "output_type": "execute_result"
    }
   ],
   "source": [
    "bnb.shape"
   ]
  },
  {
   "cell_type": "code",
   "execution_count": 31,
   "id": "c1358605-df78-48b7-ad4e-656afd35f314",
   "metadata": {
    "tags": []
   },
   "outputs": [],
   "source": [
    "bnb.to_csv('../data/air_bnb_data_clean.csv', index=False) "
   ]
  }
 ],
 "metadata": {
  "kernelspec": {
   "display_name": "Python 3 (ipykernel)",
   "language": "python",
   "name": "python3"
  },
  "language_info": {
   "codemirror_mode": {
    "name": "ipython",
    "version": 3
   },
   "file_extension": ".py",
   "mimetype": "text/x-python",
   "name": "python",
   "nbconvert_exporter": "python",
   "pygments_lexer": "ipython3",
   "version": "3.11.7"
  }
 },
 "nbformat": 4,
 "nbformat_minor": 5
}
